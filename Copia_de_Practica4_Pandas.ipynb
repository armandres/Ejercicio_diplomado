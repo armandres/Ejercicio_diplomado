{
  "cells": [
    {
      "cell_type": "markdown",
      "metadata": {
        "id": "view-in-github",
        "colab_type": "text"
      },
      "source": [
        "<a href=\"https://colab.research.google.com/github/armandres/Ejercicio_diplomado/blob/main/Copia_de_Practica4_Pandas.ipynb\" target=\"_parent\"><img src=\"https://colab.research.google.com/assets/colab-badge.svg\" alt=\"Open In Colab\"/></a>"
      ]
    },
    {
      "cell_type": "markdown",
      "metadata": {
        "id": "lIbl6vji_ABC"
      },
      "source": [
        "<a href=\"https://colab.research.google.com/github/DCDPUAEM/DCDP/blob/main/01%20Programaci%C3%B3n%20en%20Python/notebooks/exercises/Practica4_Pandas.ipynb\" target=\"_parent\"><img src=\"https://colab.research.google.com/assets/colab-badge.svg\" alt=\"Open In Colab\"/></a>"
      ]
    },
    {
      "cell_type": "code",
      "execution_count": 2,
      "metadata": {
        "id": "ZNyDSkrY_ABE"
      },
      "outputs": [],
      "source": [
        "import numpy as np\n",
        "import pandas as pd\n",
        "import matplotlib.pyplot as plt\n",
        "import seaborn as sns"
      ]
    },
    {
      "cell_type": "markdown",
      "metadata": {
        "id": "CgMDpn9I_ABF"
      },
      "source": [
        "### __Data set de vinos del mundo__\n",
        "\n",
        "Esta es una versión reducida de la base de datos [winemag-data](https://gist.github.com/clairehq/79acab35be50eaf1c383948ed3fd1129), que contiene una reseña en inglés sobre una gran cantidad de vinos del mundo."
      ]
    },
    {
      "cell_type": "markdown",
      "metadata": {
        "id": "HGValEUF_ABF"
      },
      "source": [
        "### __Descripción de los campos__\n",
        "\n",
        " - **country**: El país de donde proviene el vino\n",
        " - **description** : Algunas frases de un sommelier que describen el sabor, olor, apariencia, sensación, etc. del vino.\n",
        " - **designation**: La denominación. El viñedo dentro de la bodega de donde proceden las uvas que elaboraron el vino.\n",
        " - **points**: la cantidad de puntos que WineEnthusiast calificó al vino en una escala del 1 al 100 (aunque dicen que solo publican reseñas de vinos con una puntuación> = 80).\n",
        " - **price**: El costo de una botella de vino.\n",
        " - **province**: La provincia o estado de donde proviene el vino\n",
        " - **region_1**: el área de cultivo de vino en una provincia o estado (es decir, Napa)\n",
        " - **region_2**: a veces hay regiones más específicas, especificadas dentro de un área de cultivo del vino (es decir, Rutherford dentro del Valle de Napa), pero este valor a veces puede estar en blanco.\n",
        " - **taster_name**: nombre de la persona que probó y revisó el vino.\n",
        " - **taster_twitter_handle**: identificador de Twitter para la persona que probó y revisó el vino.\n",
        " - **title**: el título de la reseña de vinos, que a menudo contiene la cosecha si está interesado en extraer esa característica.\n",
        " - **variety**: la variedad: el tipo de uva utilizada para elaborar el vino (es decir, Pinot Noir).\n",
        " - **winery**: la bodega que hizo el vino."
      ]
    },
    {
      "cell_type": "markdown",
      "metadata": {
        "id": "f246lkbR_ABG"
      },
      "source": [
        "### TEST"
      ]
    },
    {
      "cell_type": "code",
      "execution_count": 3,
      "metadata": {
        "id": "XAmJpciT_ABG",
        "outputId": "39f8f59c-6073-4248-f843-611ec6f90d13",
        "colab": {
          "base_uri": "https://localhost:8080/"
        }
      },
      "outputs": [
        {
          "output_type": "stream",
          "name": "stdout",
          "text": [
            "  % Total    % Received % Xferd  Average Speed   Time    Time     Time  Current\n",
            "                                 Dload  Upload   Total   Spent    Left  Speed\n",
            "100 23.2M  100 23.2M    0     0  18.1M      0  0:00:01  0:00:01 --:--:-- 18.1M\n"
          ]
        }
      ],
      "source": [
        "# Fetch the dataset using the raw GitHub URL.\n",
        "!curl --remote-name \\\n",
        "     -H 'Accept: application/vnd.github.v3.raw' \\\n",
        "     --location https://raw.githubusercontent.com/DCDPUAEM/DCDP/main/01%20Programaci%C3%B3n%20en%20Python/data/winemag-data-less.csv"
      ]
    },
    {
      "cell_type": "code",
      "execution_count": 8,
      "metadata": {
        "id": "H6A9oPyf_ABG",
        "outputId": "fb7845bd-c837-4b56-96cb-93637b757b59",
        "colab": {
          "base_uri": "https://localhost:8080/",
          "height": 737
        }
      },
      "outputs": [
        {
          "output_type": "stream",
          "name": "stdout",
          "text": [
            "<class 'pandas.core.frame.DataFrame'>\n",
            "RangeIndex: 59995 entries, 0 to 59994\n",
            "Data columns (total 14 columns):\n",
            " #   Column                 Non-Null Count  Dtype  \n",
            "---  ------                 --------------  -----  \n",
            " 0   Unnamed: 0             59995 non-null  int64  \n",
            " 1   country                59964 non-null  object \n",
            " 2   description            59995 non-null  object \n",
            " 3   designation            42728 non-null  object \n",
            " 4   points                 59995 non-null  int64  \n",
            " 5   price                  55750 non-null  float64\n",
            " 6   province               59964 non-null  object \n",
            " 7   region_1               50163 non-null  object \n",
            " 8   region_2               23068 non-null  object \n",
            " 9   taster_name            47586 non-null  object \n",
            " 10  taster_twitter_handle  45381 non-null  object \n",
            " 11  title                  59995 non-null  object \n",
            " 12  variety                59995 non-null  object \n",
            " 13  winery                 59995 non-null  object \n",
            "dtypes: float64(1), int64(2), object(11)\n",
            "memory usage: 6.4+ MB\n",
            "None\n"
          ]
        },
        {
          "output_type": "execute_result",
          "data": {
            "text/plain": [
              "   Unnamed: 0   country                                        description  \\\n",
              "0           0     Italy  Aromas include tropical fruit, broom, brimston...   \n",
              "1           1  Portugal  This is ripe and fruity, a wine that is smooth...   \n",
              "2           2        US  Tart and snappy, the flavors of lime flesh and...   \n",
              "\n",
              "    designation  points  price           province           region_1  \\\n",
              "0  Vulkà Bianco      87    NaN  Sicily & Sardinia               Etna   \n",
              "1      Avidagos      87   15.0              Douro                NaN   \n",
              "2           NaN      87   14.0             Oregon  Willamette Valley   \n",
              "\n",
              "            region_2    taster_name taster_twitter_handle  \\\n",
              "0                NaN  Kerin O’Keefe          @kerinokeefe   \n",
              "1                NaN     Roger Voss            @vossroger   \n",
              "2  Willamette Valley   Paul Gregutt           @paulgwine    \n",
              "\n",
              "                                           title         variety  \\\n",
              "0              Nicosia 2013 Vulkà Bianco  (Etna)     White Blend   \n",
              "1  Quinta dos Avidagos 2011 Avidagos Red (Douro)  Portuguese Red   \n",
              "2  Rainstorm 2013 Pinot Gris (Willamette Valley)      Pinot Gris   \n",
              "\n",
              "                winery  \n",
              "0              Nicosia  \n",
              "1  Quinta dos Avidagos  \n",
              "2            Rainstorm  "
            ],
            "text/html": [
              "\n",
              "  <div id=\"df-8a953ec7-c48d-41ed-962c-8dcc24b7d8e5\" class=\"colab-df-container\">\n",
              "    <div>\n",
              "<style scoped>\n",
              "    .dataframe tbody tr th:only-of-type {\n",
              "        vertical-align: middle;\n",
              "    }\n",
              "\n",
              "    .dataframe tbody tr th {\n",
              "        vertical-align: top;\n",
              "    }\n",
              "\n",
              "    .dataframe thead th {\n",
              "        text-align: right;\n",
              "    }\n",
              "</style>\n",
              "<table border=\"1\" class=\"dataframe\">\n",
              "  <thead>\n",
              "    <tr style=\"text-align: right;\">\n",
              "      <th></th>\n",
              "      <th>Unnamed: 0</th>\n",
              "      <th>country</th>\n",
              "      <th>description</th>\n",
              "      <th>designation</th>\n",
              "      <th>points</th>\n",
              "      <th>price</th>\n",
              "      <th>province</th>\n",
              "      <th>region_1</th>\n",
              "      <th>region_2</th>\n",
              "      <th>taster_name</th>\n",
              "      <th>taster_twitter_handle</th>\n",
              "      <th>title</th>\n",
              "      <th>variety</th>\n",
              "      <th>winery</th>\n",
              "    </tr>\n",
              "  </thead>\n",
              "  <tbody>\n",
              "    <tr>\n",
              "      <th>0</th>\n",
              "      <td>0</td>\n",
              "      <td>Italy</td>\n",
              "      <td>Aromas include tropical fruit, broom, brimston...</td>\n",
              "      <td>Vulkà Bianco</td>\n",
              "      <td>87</td>\n",
              "      <td>NaN</td>\n",
              "      <td>Sicily &amp; Sardinia</td>\n",
              "      <td>Etna</td>\n",
              "      <td>NaN</td>\n",
              "      <td>Kerin O’Keefe</td>\n",
              "      <td>@kerinokeefe</td>\n",
              "      <td>Nicosia 2013 Vulkà Bianco  (Etna)</td>\n",
              "      <td>White Blend</td>\n",
              "      <td>Nicosia</td>\n",
              "    </tr>\n",
              "    <tr>\n",
              "      <th>1</th>\n",
              "      <td>1</td>\n",
              "      <td>Portugal</td>\n",
              "      <td>This is ripe and fruity, a wine that is smooth...</td>\n",
              "      <td>Avidagos</td>\n",
              "      <td>87</td>\n",
              "      <td>15.0</td>\n",
              "      <td>Douro</td>\n",
              "      <td>NaN</td>\n",
              "      <td>NaN</td>\n",
              "      <td>Roger Voss</td>\n",
              "      <td>@vossroger</td>\n",
              "      <td>Quinta dos Avidagos 2011 Avidagos Red (Douro)</td>\n",
              "      <td>Portuguese Red</td>\n",
              "      <td>Quinta dos Avidagos</td>\n",
              "    </tr>\n",
              "    <tr>\n",
              "      <th>2</th>\n",
              "      <td>2</td>\n",
              "      <td>US</td>\n",
              "      <td>Tart and snappy, the flavors of lime flesh and...</td>\n",
              "      <td>NaN</td>\n",
              "      <td>87</td>\n",
              "      <td>14.0</td>\n",
              "      <td>Oregon</td>\n",
              "      <td>Willamette Valley</td>\n",
              "      <td>Willamette Valley</td>\n",
              "      <td>Paul Gregutt</td>\n",
              "      <td>@paulgwine</td>\n",
              "      <td>Rainstorm 2013 Pinot Gris (Willamette Valley)</td>\n",
              "      <td>Pinot Gris</td>\n",
              "      <td>Rainstorm</td>\n",
              "    </tr>\n",
              "  </tbody>\n",
              "</table>\n",
              "</div>\n",
              "    <div class=\"colab-df-buttons\">\n",
              "\n",
              "  <div class=\"colab-df-container\">\n",
              "    <button class=\"colab-df-convert\" onclick=\"convertToInteractive('df-8a953ec7-c48d-41ed-962c-8dcc24b7d8e5')\"\n",
              "            title=\"Convert this dataframe to an interactive table.\"\n",
              "            style=\"display:none;\">\n",
              "\n",
              "  <svg xmlns=\"http://www.w3.org/2000/svg\" height=\"24px\" viewBox=\"0 -960 960 960\">\n",
              "    <path d=\"M120-120v-720h720v720H120Zm60-500h600v-160H180v160Zm220 220h160v-160H400v160Zm0 220h160v-160H400v160ZM180-400h160v-160H180v160Zm440 0h160v-160H620v160ZM180-180h160v-160H180v160Zm440 0h160v-160H620v160Z\"/>\n",
              "  </svg>\n",
              "    </button>\n",
              "\n",
              "  <style>\n",
              "    .colab-df-container {\n",
              "      display:flex;\n",
              "      gap: 12px;\n",
              "    }\n",
              "\n",
              "    .colab-df-convert {\n",
              "      background-color: #E8F0FE;\n",
              "      border: none;\n",
              "      border-radius: 50%;\n",
              "      cursor: pointer;\n",
              "      display: none;\n",
              "      fill: #1967D2;\n",
              "      height: 32px;\n",
              "      padding: 0 0 0 0;\n",
              "      width: 32px;\n",
              "    }\n",
              "\n",
              "    .colab-df-convert:hover {\n",
              "      background-color: #E2EBFA;\n",
              "      box-shadow: 0px 1px 2px rgba(60, 64, 67, 0.3), 0px 1px 3px 1px rgba(60, 64, 67, 0.15);\n",
              "      fill: #174EA6;\n",
              "    }\n",
              "\n",
              "    .colab-df-buttons div {\n",
              "      margin-bottom: 4px;\n",
              "    }\n",
              "\n",
              "    [theme=dark] .colab-df-convert {\n",
              "      background-color: #3B4455;\n",
              "      fill: #D2E3FC;\n",
              "    }\n",
              "\n",
              "    [theme=dark] .colab-df-convert:hover {\n",
              "      background-color: #434B5C;\n",
              "      box-shadow: 0px 1px 3px 1px rgba(0, 0, 0, 0.15);\n",
              "      filter: drop-shadow(0px 1px 2px rgba(0, 0, 0, 0.3));\n",
              "      fill: #FFFFFF;\n",
              "    }\n",
              "  </style>\n",
              "\n",
              "    <script>\n",
              "      const buttonEl =\n",
              "        document.querySelector('#df-8a953ec7-c48d-41ed-962c-8dcc24b7d8e5 button.colab-df-convert');\n",
              "      buttonEl.style.display =\n",
              "        google.colab.kernel.accessAllowed ? 'block' : 'none';\n",
              "\n",
              "      async function convertToInteractive(key) {\n",
              "        const element = document.querySelector('#df-8a953ec7-c48d-41ed-962c-8dcc24b7d8e5');\n",
              "        const dataTable =\n",
              "          await google.colab.kernel.invokeFunction('convertToInteractive',\n",
              "                                                    [key], {});\n",
              "        if (!dataTable) return;\n",
              "\n",
              "        const docLinkHtml = 'Like what you see? Visit the ' +\n",
              "          '<a target=\"_blank\" href=https://colab.research.google.com/notebooks/data_table.ipynb>data table notebook</a>'\n",
              "          + ' to learn more about interactive tables.';\n",
              "        element.innerHTML = '';\n",
              "        dataTable['output_type'] = 'display_data';\n",
              "        await google.colab.output.renderOutput(dataTable, element);\n",
              "        const docLink = document.createElement('div');\n",
              "        docLink.innerHTML = docLinkHtml;\n",
              "        element.appendChild(docLink);\n",
              "      }\n",
              "    </script>\n",
              "  </div>\n",
              "\n",
              "\n",
              "<div id=\"df-17bb534d-9bfe-4240-99e7-82f17cc157f2\">\n",
              "  <button class=\"colab-df-quickchart\" onclick=\"quickchart('df-17bb534d-9bfe-4240-99e7-82f17cc157f2')\"\n",
              "            title=\"Suggest charts\"\n",
              "            style=\"display:none;\">\n",
              "\n",
              "<svg xmlns=\"http://www.w3.org/2000/svg\" height=\"24px\"viewBox=\"0 0 24 24\"\n",
              "     width=\"24px\">\n",
              "    <g>\n",
              "        <path d=\"M19 3H5c-1.1 0-2 .9-2 2v14c0 1.1.9 2 2 2h14c1.1 0 2-.9 2-2V5c0-1.1-.9-2-2-2zM9 17H7v-7h2v7zm4 0h-2V7h2v10zm4 0h-2v-4h2v4z\"/>\n",
              "    </g>\n",
              "</svg>\n",
              "  </button>\n",
              "\n",
              "<style>\n",
              "  .colab-df-quickchart {\n",
              "      --bg-color: #E8F0FE;\n",
              "      --fill-color: #1967D2;\n",
              "      --hover-bg-color: #E2EBFA;\n",
              "      --hover-fill-color: #174EA6;\n",
              "      --disabled-fill-color: #AAA;\n",
              "      --disabled-bg-color: #DDD;\n",
              "  }\n",
              "\n",
              "  [theme=dark] .colab-df-quickchart {\n",
              "      --bg-color: #3B4455;\n",
              "      --fill-color: #D2E3FC;\n",
              "      --hover-bg-color: #434B5C;\n",
              "      --hover-fill-color: #FFFFFF;\n",
              "      --disabled-bg-color: #3B4455;\n",
              "      --disabled-fill-color: #666;\n",
              "  }\n",
              "\n",
              "  .colab-df-quickchart {\n",
              "    background-color: var(--bg-color);\n",
              "    border: none;\n",
              "    border-radius: 50%;\n",
              "    cursor: pointer;\n",
              "    display: none;\n",
              "    fill: var(--fill-color);\n",
              "    height: 32px;\n",
              "    padding: 0;\n",
              "    width: 32px;\n",
              "  }\n",
              "\n",
              "  .colab-df-quickchart:hover {\n",
              "    background-color: var(--hover-bg-color);\n",
              "    box-shadow: 0 1px 2px rgba(60, 64, 67, 0.3), 0 1px 3px 1px rgba(60, 64, 67, 0.15);\n",
              "    fill: var(--button-hover-fill-color);\n",
              "  }\n",
              "\n",
              "  .colab-df-quickchart-complete:disabled,\n",
              "  .colab-df-quickchart-complete:disabled:hover {\n",
              "    background-color: var(--disabled-bg-color);\n",
              "    fill: var(--disabled-fill-color);\n",
              "    box-shadow: none;\n",
              "  }\n",
              "\n",
              "  .colab-df-spinner {\n",
              "    border: 2px solid var(--fill-color);\n",
              "    border-color: transparent;\n",
              "    border-bottom-color: var(--fill-color);\n",
              "    animation:\n",
              "      spin 1s steps(1) infinite;\n",
              "  }\n",
              "\n",
              "  @keyframes spin {\n",
              "    0% {\n",
              "      border-color: transparent;\n",
              "      border-bottom-color: var(--fill-color);\n",
              "      border-left-color: var(--fill-color);\n",
              "    }\n",
              "    20% {\n",
              "      border-color: transparent;\n",
              "      border-left-color: var(--fill-color);\n",
              "      border-top-color: var(--fill-color);\n",
              "    }\n",
              "    30% {\n",
              "      border-color: transparent;\n",
              "      border-left-color: var(--fill-color);\n",
              "      border-top-color: var(--fill-color);\n",
              "      border-right-color: var(--fill-color);\n",
              "    }\n",
              "    40% {\n",
              "      border-color: transparent;\n",
              "      border-right-color: var(--fill-color);\n",
              "      border-top-color: var(--fill-color);\n",
              "    }\n",
              "    60% {\n",
              "      border-color: transparent;\n",
              "      border-right-color: var(--fill-color);\n",
              "    }\n",
              "    80% {\n",
              "      border-color: transparent;\n",
              "      border-right-color: var(--fill-color);\n",
              "      border-bottom-color: var(--fill-color);\n",
              "    }\n",
              "    90% {\n",
              "      border-color: transparent;\n",
              "      border-bottom-color: var(--fill-color);\n",
              "    }\n",
              "  }\n",
              "</style>\n",
              "\n",
              "  <script>\n",
              "    async function quickchart(key) {\n",
              "      const quickchartButtonEl =\n",
              "        document.querySelector('#' + key + ' button');\n",
              "      quickchartButtonEl.disabled = true;  // To prevent multiple clicks.\n",
              "      quickchartButtonEl.classList.add('colab-df-spinner');\n",
              "      try {\n",
              "        const charts = await google.colab.kernel.invokeFunction(\n",
              "            'suggestCharts', [key], {});\n",
              "      } catch (error) {\n",
              "        console.error('Error during call to suggestCharts:', error);\n",
              "      }\n",
              "      quickchartButtonEl.classList.remove('colab-df-spinner');\n",
              "      quickchartButtonEl.classList.add('colab-df-quickchart-complete');\n",
              "    }\n",
              "    (() => {\n",
              "      let quickchartButtonEl =\n",
              "        document.querySelector('#df-17bb534d-9bfe-4240-99e7-82f17cc157f2 button');\n",
              "      quickchartButtonEl.style.display =\n",
              "        google.colab.kernel.accessAllowed ? 'block' : 'none';\n",
              "    })();\n",
              "  </script>\n",
              "</div>\n",
              "\n",
              "    </div>\n",
              "  </div>\n"
            ],
            "application/vnd.google.colaboratory.intrinsic+json": {
              "type": "dataframe",
              "variable_name": "df",
              "summary": "{\n  \"name\": \"df\",\n  \"rows\": 59995,\n  \"fields\": [\n    {\n      \"column\": \"Unnamed: 0\",\n      \"properties\": {\n        \"dtype\": \"number\",\n        \"std\": 17319,\n        \"min\": 0,\n        \"max\": 59994,\n        \"num_unique_values\": 59995,\n        \"samples\": [\n          21993,\n          8632,\n          54405\n        ],\n        \"semantic_type\": \"\",\n        \"description\": \"\"\n      }\n    },\n    {\n      \"column\": \"country\",\n      \"properties\": {\n        \"dtype\": \"category\",\n        \"num_unique_values\": 41,\n        \"samples\": [\n          \"Uruguay\",\n          \"Hungary\",\n          \"Australia\"\n        ],\n        \"semantic_type\": \"\",\n        \"description\": \"\"\n      }\n    },\n    {\n      \"column\": \"description\",\n      \"properties\": {\n        \"dtype\": \"string\",\n        \"num_unique_values\": 57766,\n        \"samples\": [\n          \"Tart, acidic hard-candy fruit flavors come through, along with hints of sweet spices. But the wine quickly hits a wall, stopping abruptly in a short, tight finish with austere tannins.\",\n          \"This is one of the most exciting wines of the vintage for this label, a blend of 68% Bien Nacido and 32% from its sister vineyard, Solomon Hills. It shows Meyer lemon pith, chalk, pencil lead, grapefruit pith and a slight touch of yogurt on the nose. The chalk-driven, tingling-with-acidity palate opens onto brine-laced flavors of yellow grapefruit pith and expertly restrained pineapple and peach.\",\n          \"Covila produces mostly good-quality affordable Rioja wines, but with this bottling the winery has stepped it up a notch. Aromas of raisin, graphite, prune, vanilla and coconut are ripe and oaky. A chunky, blocky, ripe palate holds blackberry and cassis flavors that come with notes of dried herbs. Chewy tannins and peppery spice push a bold finish. Drink through 2022.\"\n        ],\n        \"semantic_type\": \"\",\n        \"description\": \"\"\n      }\n    },\n    {\n      \"column\": \"designation\",\n      \"properties\": {\n        \"dtype\": \"category\",\n        \"num_unique_values\": 22810,\n        \"samples\": [\n          \"Sondraia\",\n          \"S'arai\",\n          \"L'Ame du Domaine\"\n        ],\n        \"semantic_type\": \"\",\n        \"description\": \"\"\n      }\n    },\n    {\n      \"column\": \"points\",\n      \"properties\": {\n        \"dtype\": \"number\",\n        \"std\": 3,\n        \"min\": 80,\n        \"max\": 100,\n        \"num_unique_values\": 21,\n        \"samples\": [\n          87,\n          93,\n          96\n        ],\n        \"semantic_type\": \"\",\n        \"description\": \"\"\n      }\n    },\n    {\n      \"column\": \"price\",\n      \"properties\": {\n        \"dtype\": \"number\",\n        \"std\": 39.296802881036804,\n        \"min\": 4.0,\n        \"max\": 2500.0,\n        \"num_unique_values\": 304,\n        \"samples\": [\n          83.0,\n          500.0,\n          1300.0\n        ],\n        \"semantic_type\": \"\",\n        \"description\": \"\"\n      }\n    },\n    {\n      \"column\": \"province\",\n      \"properties\": {\n        \"dtype\": \"category\",\n        \"num_unique_values\": 377,\n        \"samples\": [\n          \"Greece\",\n          \"New Zealand\",\n          \"Mittelburgenland\"\n        ],\n        \"semantic_type\": \"\",\n        \"description\": \"\"\n      }\n    },\n    {\n      \"column\": \"region_1\",\n      \"properties\": {\n        \"dtype\": \"category\",\n        \"num_unique_values\": 1092,\n        \"samples\": [\n          \"Veneto Orientale\",\n          \"Collio\",\n          \"Luj\\u00e1n de Cuyo\"\n        ],\n        \"semantic_type\": \"\",\n        \"description\": \"\"\n      }\n    },\n    {\n      \"column\": \"region_2\",\n      \"properties\": {\n        \"dtype\": \"category\",\n        \"num_unique_values\": 17,\n        \"samples\": [\n          \"Willamette Valley\",\n          \"Napa\",\n          \"Central Valley\"\n        ],\n        \"semantic_type\": \"\",\n        \"description\": \"\"\n      }\n    },\n    {\n      \"column\": \"taster_name\",\n      \"properties\": {\n        \"dtype\": \"category\",\n        \"num_unique_values\": 19,\n        \"samples\": [\n          \"Kerin O\\u2019Keefe\",\n          \"Anna Lee C. Iijima\",\n          \"Anne Krebiehl\\u00a0MW\"\n        ],\n        \"semantic_type\": \"\",\n        \"description\": \"\"\n      }\n    },\n    {\n      \"column\": \"taster_twitter_handle\",\n      \"properties\": {\n        \"dtype\": \"category\",\n        \"num_unique_values\": 15,\n        \"samples\": [\n          \"@AnneInVino\",\n          \"@worldwineguys\",\n          \"@kerinokeefe\"\n        ],\n        \"semantic_type\": \"\",\n        \"description\": \"\"\n      }\n    },\n    {\n      \"column\": \"title\",\n      \"properties\": {\n        \"dtype\": \"string\",\n        \"num_unique_values\": 57463,\n        \"samples\": [\n          \"Raats Family 2011 Old Vine Chenin Blanc (Stellenbosch)\",\n          \"Forstreiter 2015 Kremser Kogl Gr\\u00fcner Veltliner (Kremstal)\",\n          \"ONX 2015 Indie Tempranillo (Templeton Gap District)\"\n        ],\n        \"semantic_type\": \"\",\n        \"description\": \"\"\n      }\n    },\n    {\n      \"column\": \"variety\",\n      \"properties\": {\n        \"dtype\": \"category\",\n        \"num_unique_values\": 580,\n        \"samples\": [\n          \"Mavrotragano\",\n          \"Shiraz-Grenache\",\n          \"Viura\"\n        ],\n        \"semantic_type\": \"\",\n        \"description\": \"\"\n      }\n    },\n    {\n      \"column\": \"winery\",\n      \"properties\": {\n        \"dtype\": \"category\",\n        \"num_unique_values\": 13119,\n        \"samples\": [\n          \"Ch\\u00e2teau des Bormettes\",\n          \"El Bully\",\n          \"Rubinelli Vajol\"\n        ],\n        \"semantic_type\": \"\",\n        \"description\": \"\"\n      }\n    }\n  ]\n}"
            }
          },
          "metadata": {},
          "execution_count": 8
        }
      ],
      "source": [
        "# leemos el dataframe usando read_csv\n",
        "import pandas as pd\n",
        "df = pd.read_csv(\"winemag-data-less.csv\")\n",
        "print(df.info())\n",
        "df.head(3)"
      ]
    },
    {
      "cell_type": "code",
      "execution_count": 9,
      "metadata": {
        "id": "Vz3jD1xi_ABG",
        "outputId": "1d68f050-6347-4d24-e1a0-fe12cf09945c",
        "colab": {
          "base_uri": "https://localhost:8080/",
          "height": 278
        }
      },
      "outputs": [
        {
          "output_type": "execute_result",
          "data": {
            "text/plain": [
              "    country                                        description   designation  \\\n",
              "0     Italy  Aromas include tropical fruit, broom, brimston...  Vulkà Bianco   \n",
              "1  Portugal  This is ripe and fruity, a wine that is smooth...      Avidagos   \n",
              "2        US  Tart and snappy, the flavors of lime flesh and...           NaN   \n",
              "\n",
              "   points  price           province           region_1           region_2  \\\n",
              "0      87    NaN  Sicily & Sardinia               Etna                NaN   \n",
              "1      87   15.0              Douro                NaN                NaN   \n",
              "2      87   14.0             Oregon  Willamette Valley  Willamette Valley   \n",
              "\n",
              "     taster_name taster_twitter_handle  \\\n",
              "0  Kerin O’Keefe          @kerinokeefe   \n",
              "1     Roger Voss            @vossroger   \n",
              "2   Paul Gregutt           @paulgwine    \n",
              "\n",
              "                                           title         variety  \\\n",
              "0              Nicosia 2013 Vulkà Bianco  (Etna)     White Blend   \n",
              "1  Quinta dos Avidagos 2011 Avidagos Red (Douro)  Portuguese Red   \n",
              "2  Rainstorm 2013 Pinot Gris (Willamette Valley)      Pinot Gris   \n",
              "\n",
              "                winery  \n",
              "0              Nicosia  \n",
              "1  Quinta dos Avidagos  \n",
              "2            Rainstorm  "
            ],
            "text/html": [
              "\n",
              "  <div id=\"df-e2ca88aa-5c22-4db5-8ea7-c52040f04d66\" class=\"colab-df-container\">\n",
              "    <div>\n",
              "<style scoped>\n",
              "    .dataframe tbody tr th:only-of-type {\n",
              "        vertical-align: middle;\n",
              "    }\n",
              "\n",
              "    .dataframe tbody tr th {\n",
              "        vertical-align: top;\n",
              "    }\n",
              "\n",
              "    .dataframe thead th {\n",
              "        text-align: right;\n",
              "    }\n",
              "</style>\n",
              "<table border=\"1\" class=\"dataframe\">\n",
              "  <thead>\n",
              "    <tr style=\"text-align: right;\">\n",
              "      <th></th>\n",
              "      <th>country</th>\n",
              "      <th>description</th>\n",
              "      <th>designation</th>\n",
              "      <th>points</th>\n",
              "      <th>price</th>\n",
              "      <th>province</th>\n",
              "      <th>region_1</th>\n",
              "      <th>region_2</th>\n",
              "      <th>taster_name</th>\n",
              "      <th>taster_twitter_handle</th>\n",
              "      <th>title</th>\n",
              "      <th>variety</th>\n",
              "      <th>winery</th>\n",
              "    </tr>\n",
              "  </thead>\n",
              "  <tbody>\n",
              "    <tr>\n",
              "      <th>0</th>\n",
              "      <td>Italy</td>\n",
              "      <td>Aromas include tropical fruit, broom, brimston...</td>\n",
              "      <td>Vulkà Bianco</td>\n",
              "      <td>87</td>\n",
              "      <td>NaN</td>\n",
              "      <td>Sicily &amp; Sardinia</td>\n",
              "      <td>Etna</td>\n",
              "      <td>NaN</td>\n",
              "      <td>Kerin O’Keefe</td>\n",
              "      <td>@kerinokeefe</td>\n",
              "      <td>Nicosia 2013 Vulkà Bianco  (Etna)</td>\n",
              "      <td>White Blend</td>\n",
              "      <td>Nicosia</td>\n",
              "    </tr>\n",
              "    <tr>\n",
              "      <th>1</th>\n",
              "      <td>Portugal</td>\n",
              "      <td>This is ripe and fruity, a wine that is smooth...</td>\n",
              "      <td>Avidagos</td>\n",
              "      <td>87</td>\n",
              "      <td>15.0</td>\n",
              "      <td>Douro</td>\n",
              "      <td>NaN</td>\n",
              "      <td>NaN</td>\n",
              "      <td>Roger Voss</td>\n",
              "      <td>@vossroger</td>\n",
              "      <td>Quinta dos Avidagos 2011 Avidagos Red (Douro)</td>\n",
              "      <td>Portuguese Red</td>\n",
              "      <td>Quinta dos Avidagos</td>\n",
              "    </tr>\n",
              "    <tr>\n",
              "      <th>2</th>\n",
              "      <td>US</td>\n",
              "      <td>Tart and snappy, the flavors of lime flesh and...</td>\n",
              "      <td>NaN</td>\n",
              "      <td>87</td>\n",
              "      <td>14.0</td>\n",
              "      <td>Oregon</td>\n",
              "      <td>Willamette Valley</td>\n",
              "      <td>Willamette Valley</td>\n",
              "      <td>Paul Gregutt</td>\n",
              "      <td>@paulgwine</td>\n",
              "      <td>Rainstorm 2013 Pinot Gris (Willamette Valley)</td>\n",
              "      <td>Pinot Gris</td>\n",
              "      <td>Rainstorm</td>\n",
              "    </tr>\n",
              "  </tbody>\n",
              "</table>\n",
              "</div>\n",
              "    <div class=\"colab-df-buttons\">\n",
              "\n",
              "  <div class=\"colab-df-container\">\n",
              "    <button class=\"colab-df-convert\" onclick=\"convertToInteractive('df-e2ca88aa-5c22-4db5-8ea7-c52040f04d66')\"\n",
              "            title=\"Convert this dataframe to an interactive table.\"\n",
              "            style=\"display:none;\">\n",
              "\n",
              "  <svg xmlns=\"http://www.w3.org/2000/svg\" height=\"24px\" viewBox=\"0 -960 960 960\">\n",
              "    <path d=\"M120-120v-720h720v720H120Zm60-500h600v-160H180v160Zm220 220h160v-160H400v160Zm0 220h160v-160H400v160ZM180-400h160v-160H180v160Zm440 0h160v-160H620v160ZM180-180h160v-160H180v160Zm440 0h160v-160H620v160Z\"/>\n",
              "  </svg>\n",
              "    </button>\n",
              "\n",
              "  <style>\n",
              "    .colab-df-container {\n",
              "      display:flex;\n",
              "      gap: 12px;\n",
              "    }\n",
              "\n",
              "    .colab-df-convert {\n",
              "      background-color: #E8F0FE;\n",
              "      border: none;\n",
              "      border-radius: 50%;\n",
              "      cursor: pointer;\n",
              "      display: none;\n",
              "      fill: #1967D2;\n",
              "      height: 32px;\n",
              "      padding: 0 0 0 0;\n",
              "      width: 32px;\n",
              "    }\n",
              "\n",
              "    .colab-df-convert:hover {\n",
              "      background-color: #E2EBFA;\n",
              "      box-shadow: 0px 1px 2px rgba(60, 64, 67, 0.3), 0px 1px 3px 1px rgba(60, 64, 67, 0.15);\n",
              "      fill: #174EA6;\n",
              "    }\n",
              "\n",
              "    .colab-df-buttons div {\n",
              "      margin-bottom: 4px;\n",
              "    }\n",
              "\n",
              "    [theme=dark] .colab-df-convert {\n",
              "      background-color: #3B4455;\n",
              "      fill: #D2E3FC;\n",
              "    }\n",
              "\n",
              "    [theme=dark] .colab-df-convert:hover {\n",
              "      background-color: #434B5C;\n",
              "      box-shadow: 0px 1px 3px 1px rgba(0, 0, 0, 0.15);\n",
              "      filter: drop-shadow(0px 1px 2px rgba(0, 0, 0, 0.3));\n",
              "      fill: #FFFFFF;\n",
              "    }\n",
              "  </style>\n",
              "\n",
              "    <script>\n",
              "      const buttonEl =\n",
              "        document.querySelector('#df-e2ca88aa-5c22-4db5-8ea7-c52040f04d66 button.colab-df-convert');\n",
              "      buttonEl.style.display =\n",
              "        google.colab.kernel.accessAllowed ? 'block' : 'none';\n",
              "\n",
              "      async function convertToInteractive(key) {\n",
              "        const element = document.querySelector('#df-e2ca88aa-5c22-4db5-8ea7-c52040f04d66');\n",
              "        const dataTable =\n",
              "          await google.colab.kernel.invokeFunction('convertToInteractive',\n",
              "                                                    [key], {});\n",
              "        if (!dataTable) return;\n",
              "\n",
              "        const docLinkHtml = 'Like what you see? Visit the ' +\n",
              "          '<a target=\"_blank\" href=https://colab.research.google.com/notebooks/data_table.ipynb>data table notebook</a>'\n",
              "          + ' to learn more about interactive tables.';\n",
              "        element.innerHTML = '';\n",
              "        dataTable['output_type'] = 'display_data';\n",
              "        await google.colab.output.renderOutput(dataTable, element);\n",
              "        const docLink = document.createElement('div');\n",
              "        docLink.innerHTML = docLinkHtml;\n",
              "        element.appendChild(docLink);\n",
              "      }\n",
              "    </script>\n",
              "  </div>\n",
              "\n",
              "\n",
              "<div id=\"df-94bdfa50-e774-4292-8148-ee3ee4a86bc5\">\n",
              "  <button class=\"colab-df-quickchart\" onclick=\"quickchart('df-94bdfa50-e774-4292-8148-ee3ee4a86bc5')\"\n",
              "            title=\"Suggest charts\"\n",
              "            style=\"display:none;\">\n",
              "\n",
              "<svg xmlns=\"http://www.w3.org/2000/svg\" height=\"24px\"viewBox=\"0 0 24 24\"\n",
              "     width=\"24px\">\n",
              "    <g>\n",
              "        <path d=\"M19 3H5c-1.1 0-2 .9-2 2v14c0 1.1.9 2 2 2h14c1.1 0 2-.9 2-2V5c0-1.1-.9-2-2-2zM9 17H7v-7h2v7zm4 0h-2V7h2v10zm4 0h-2v-4h2v4z\"/>\n",
              "    </g>\n",
              "</svg>\n",
              "  </button>\n",
              "\n",
              "<style>\n",
              "  .colab-df-quickchart {\n",
              "      --bg-color: #E8F0FE;\n",
              "      --fill-color: #1967D2;\n",
              "      --hover-bg-color: #E2EBFA;\n",
              "      --hover-fill-color: #174EA6;\n",
              "      --disabled-fill-color: #AAA;\n",
              "      --disabled-bg-color: #DDD;\n",
              "  }\n",
              "\n",
              "  [theme=dark] .colab-df-quickchart {\n",
              "      --bg-color: #3B4455;\n",
              "      --fill-color: #D2E3FC;\n",
              "      --hover-bg-color: #434B5C;\n",
              "      --hover-fill-color: #FFFFFF;\n",
              "      --disabled-bg-color: #3B4455;\n",
              "      --disabled-fill-color: #666;\n",
              "  }\n",
              "\n",
              "  .colab-df-quickchart {\n",
              "    background-color: var(--bg-color);\n",
              "    border: none;\n",
              "    border-radius: 50%;\n",
              "    cursor: pointer;\n",
              "    display: none;\n",
              "    fill: var(--fill-color);\n",
              "    height: 32px;\n",
              "    padding: 0;\n",
              "    width: 32px;\n",
              "  }\n",
              "\n",
              "  .colab-df-quickchart:hover {\n",
              "    background-color: var(--hover-bg-color);\n",
              "    box-shadow: 0 1px 2px rgba(60, 64, 67, 0.3), 0 1px 3px 1px rgba(60, 64, 67, 0.15);\n",
              "    fill: var(--button-hover-fill-color);\n",
              "  }\n",
              "\n",
              "  .colab-df-quickchart-complete:disabled,\n",
              "  .colab-df-quickchart-complete:disabled:hover {\n",
              "    background-color: var(--disabled-bg-color);\n",
              "    fill: var(--disabled-fill-color);\n",
              "    box-shadow: none;\n",
              "  }\n",
              "\n",
              "  .colab-df-spinner {\n",
              "    border: 2px solid var(--fill-color);\n",
              "    border-color: transparent;\n",
              "    border-bottom-color: var(--fill-color);\n",
              "    animation:\n",
              "      spin 1s steps(1) infinite;\n",
              "  }\n",
              "\n",
              "  @keyframes spin {\n",
              "    0% {\n",
              "      border-color: transparent;\n",
              "      border-bottom-color: var(--fill-color);\n",
              "      border-left-color: var(--fill-color);\n",
              "    }\n",
              "    20% {\n",
              "      border-color: transparent;\n",
              "      border-left-color: var(--fill-color);\n",
              "      border-top-color: var(--fill-color);\n",
              "    }\n",
              "    30% {\n",
              "      border-color: transparent;\n",
              "      border-left-color: var(--fill-color);\n",
              "      border-top-color: var(--fill-color);\n",
              "      border-right-color: var(--fill-color);\n",
              "    }\n",
              "    40% {\n",
              "      border-color: transparent;\n",
              "      border-right-color: var(--fill-color);\n",
              "      border-top-color: var(--fill-color);\n",
              "    }\n",
              "    60% {\n",
              "      border-color: transparent;\n",
              "      border-right-color: var(--fill-color);\n",
              "    }\n",
              "    80% {\n",
              "      border-color: transparent;\n",
              "      border-right-color: var(--fill-color);\n",
              "      border-bottom-color: var(--fill-color);\n",
              "    }\n",
              "    90% {\n",
              "      border-color: transparent;\n",
              "      border-bottom-color: var(--fill-color);\n",
              "    }\n",
              "  }\n",
              "</style>\n",
              "\n",
              "  <script>\n",
              "    async function quickchart(key) {\n",
              "      const quickchartButtonEl =\n",
              "        document.querySelector('#' + key + ' button');\n",
              "      quickchartButtonEl.disabled = true;  // To prevent multiple clicks.\n",
              "      quickchartButtonEl.classList.add('colab-df-spinner');\n",
              "      try {\n",
              "        const charts = await google.colab.kernel.invokeFunction(\n",
              "            'suggestCharts', [key], {});\n",
              "      } catch (error) {\n",
              "        console.error('Error during call to suggestCharts:', error);\n",
              "      }\n",
              "      quickchartButtonEl.classList.remove('colab-df-spinner');\n",
              "      quickchartButtonEl.classList.add('colab-df-quickchart-complete');\n",
              "    }\n",
              "    (() => {\n",
              "      let quickchartButtonEl =\n",
              "        document.querySelector('#df-94bdfa50-e774-4292-8148-ee3ee4a86bc5 button');\n",
              "      quickchartButtonEl.style.display =\n",
              "        google.colab.kernel.accessAllowed ? 'block' : 'none';\n",
              "    })();\n",
              "  </script>\n",
              "</div>\n",
              "\n",
              "    </div>\n",
              "  </div>\n"
            ],
            "application/vnd.google.colaboratory.intrinsic+json": {
              "type": "dataframe",
              "variable_name": "df",
              "summary": "{\n  \"name\": \"df\",\n  \"rows\": 59995,\n  \"fields\": [\n    {\n      \"column\": \"country\",\n      \"properties\": {\n        \"dtype\": \"category\",\n        \"num_unique_values\": 41,\n        \"samples\": [\n          \"Uruguay\",\n          \"Hungary\",\n          \"Australia\"\n        ],\n        \"semantic_type\": \"\",\n        \"description\": \"\"\n      }\n    },\n    {\n      \"column\": \"description\",\n      \"properties\": {\n        \"dtype\": \"string\",\n        \"num_unique_values\": 57766,\n        \"samples\": [\n          \"Tart, acidic hard-candy fruit flavors come through, along with hints of sweet spices. But the wine quickly hits a wall, stopping abruptly in a short, tight finish with austere tannins.\",\n          \"This is one of the most exciting wines of the vintage for this label, a blend of 68% Bien Nacido and 32% from its sister vineyard, Solomon Hills. It shows Meyer lemon pith, chalk, pencil lead, grapefruit pith and a slight touch of yogurt on the nose. The chalk-driven, tingling-with-acidity palate opens onto brine-laced flavors of yellow grapefruit pith and expertly restrained pineapple and peach.\",\n          \"Covila produces mostly good-quality affordable Rioja wines, but with this bottling the winery has stepped it up a notch. Aromas of raisin, graphite, prune, vanilla and coconut are ripe and oaky. A chunky, blocky, ripe palate holds blackberry and cassis flavors that come with notes of dried herbs. Chewy tannins and peppery spice push a bold finish. Drink through 2022.\"\n        ],\n        \"semantic_type\": \"\",\n        \"description\": \"\"\n      }\n    },\n    {\n      \"column\": \"designation\",\n      \"properties\": {\n        \"dtype\": \"category\",\n        \"num_unique_values\": 22810,\n        \"samples\": [\n          \"Sondraia\",\n          \"S'arai\",\n          \"L'Ame du Domaine\"\n        ],\n        \"semantic_type\": \"\",\n        \"description\": \"\"\n      }\n    },\n    {\n      \"column\": \"points\",\n      \"properties\": {\n        \"dtype\": \"number\",\n        \"std\": 3,\n        \"min\": 80,\n        \"max\": 100,\n        \"num_unique_values\": 21,\n        \"samples\": [\n          87,\n          93,\n          96\n        ],\n        \"semantic_type\": \"\",\n        \"description\": \"\"\n      }\n    },\n    {\n      \"column\": \"price\",\n      \"properties\": {\n        \"dtype\": \"number\",\n        \"std\": 39.296802881036804,\n        \"min\": 4.0,\n        \"max\": 2500.0,\n        \"num_unique_values\": 304,\n        \"samples\": [\n          83.0,\n          500.0,\n          1300.0\n        ],\n        \"semantic_type\": \"\",\n        \"description\": \"\"\n      }\n    },\n    {\n      \"column\": \"province\",\n      \"properties\": {\n        \"dtype\": \"category\",\n        \"num_unique_values\": 377,\n        \"samples\": [\n          \"Greece\",\n          \"New Zealand\",\n          \"Mittelburgenland\"\n        ],\n        \"semantic_type\": \"\",\n        \"description\": \"\"\n      }\n    },\n    {\n      \"column\": \"region_1\",\n      \"properties\": {\n        \"dtype\": \"category\",\n        \"num_unique_values\": 1092,\n        \"samples\": [\n          \"Veneto Orientale\",\n          \"Collio\",\n          \"Luj\\u00e1n de Cuyo\"\n        ],\n        \"semantic_type\": \"\",\n        \"description\": \"\"\n      }\n    },\n    {\n      \"column\": \"region_2\",\n      \"properties\": {\n        \"dtype\": \"category\",\n        \"num_unique_values\": 17,\n        \"samples\": [\n          \"Willamette Valley\",\n          \"Napa\",\n          \"Central Valley\"\n        ],\n        \"semantic_type\": \"\",\n        \"description\": \"\"\n      }\n    },\n    {\n      \"column\": \"taster_name\",\n      \"properties\": {\n        \"dtype\": \"category\",\n        \"num_unique_values\": 19,\n        \"samples\": [\n          \"Kerin O\\u2019Keefe\",\n          \"Anna Lee C. Iijima\",\n          \"Anne Krebiehl\\u00a0MW\"\n        ],\n        \"semantic_type\": \"\",\n        \"description\": \"\"\n      }\n    },\n    {\n      \"column\": \"taster_twitter_handle\",\n      \"properties\": {\n        \"dtype\": \"category\",\n        \"num_unique_values\": 15,\n        \"samples\": [\n          \"@AnneInVino\",\n          \"@worldwineguys\",\n          \"@kerinokeefe\"\n        ],\n        \"semantic_type\": \"\",\n        \"description\": \"\"\n      }\n    },\n    {\n      \"column\": \"title\",\n      \"properties\": {\n        \"dtype\": \"string\",\n        \"num_unique_values\": 57463,\n        \"samples\": [\n          \"Raats Family 2011 Old Vine Chenin Blanc (Stellenbosch)\",\n          \"Forstreiter 2015 Kremser Kogl Gr\\u00fcner Veltliner (Kremstal)\",\n          \"ONX 2015 Indie Tempranillo (Templeton Gap District)\"\n        ],\n        \"semantic_type\": \"\",\n        \"description\": \"\"\n      }\n    },\n    {\n      \"column\": \"variety\",\n      \"properties\": {\n        \"dtype\": \"category\",\n        \"num_unique_values\": 580,\n        \"samples\": [\n          \"Mavrotragano\",\n          \"Shiraz-Grenache\",\n          \"Viura\"\n        ],\n        \"semantic_type\": \"\",\n        \"description\": \"\"\n      }\n    },\n    {\n      \"column\": \"winery\",\n      \"properties\": {\n        \"dtype\": \"category\",\n        \"num_unique_values\": 13119,\n        \"samples\": [\n          \"Ch\\u00e2teau des Bormettes\",\n          \"El Bully\",\n          \"Rubinelli Vajol\"\n        ],\n        \"semantic_type\": \"\",\n        \"description\": \"\"\n      }\n    }\n  ]\n}"
            }
          },
          "metadata": {},
          "execution_count": 9
        }
      ],
      "source": [
        "#Tiremos la columna Unnamed: 0\n",
        "df.drop('Unnamed: 0', axis=1, inplace=True)\n",
        "df.head(3)"
      ]
    },
    {
      "cell_type": "markdown",
      "metadata": {
        "id": "h9cxt6Xt_ABG"
      },
      "source": [
        "### __Veamos cuantas reseñas de vinos mexicanos tenemos.__"
      ]
    },
    {
      "cell_type": "markdown",
      "metadata": {
        "id": "HERwfiyP_ABG"
      },
      "source": [
        "#### &#9758; Construye una nueva Tabla con las reseñas de vinos mexicanos.\n",
        "- Quédate **sólo** con las siguientes columnas: `['country','winery','variety','description','points','price']`\n",
        "- Haz que el índice se reinicie en 0.\n",
        "- Guarda este DataFrame en la variable vinosMX."
      ]
    },
    {
      "cell_type": "code",
      "execution_count": 10,
      "metadata": {
        "id": "4eU7EvJQ_ABH",
        "outputId": "c45ec441-bcfc-44a8-e7fa-414f9355b9fc",
        "colab": {
          "base_uri": "https://localhost:8080/",
          "height": 979
        }
      },
      "outputs": [
        {
          "output_type": "execute_result",
          "data": {
            "text/plain": [
              "   country                                 winery  \\\n",
              "0   Mexico                             L.A. Cetto   \n",
              "1   Mexico                            Monte Xanic   \n",
              "2   Mexico                             L.A. Cetto   \n",
              "3   Mexico                            Cava Aragon   \n",
              "4   Mexico                             L.A. Cetto   \n",
              "5   Mexico                     Hacienda La Lomita   \n",
              "6   Mexico                            Monte Xanic   \n",
              "7   Mexico                            Tres Valles   \n",
              "8   Mexico  Unión de Productores del Valle (UPVG)   \n",
              "9   Mexico                            Monte Xanic   \n",
              "10  Mexico                   Vinicola Fraternidad   \n",
              "11  Mexico                           Vinos Magbel   \n",
              "12  Mexico                                Möebius   \n",
              "13  Mexico                        Vinicola Urbana   \n",
              "14  Mexico                              Vena Cava   \n",
              "15  Mexico                            Monte Xanic   \n",
              "16  Mexico                         Viñas de Garza   \n",
              "17  Mexico                             L.A. Cetto   \n",
              "18  Mexico                             Vinisterra   \n",
              "19  Mexico                            Cava Maciel   \n",
              "20  Mexico                             L.A. Cetto   \n",
              "21  Mexico                             L.A. Cetto   \n",
              "22  Mexico                    Rincón de Guadalupe   \n",
              "23  Mexico                              Vena Cava   \n",
              "24  Mexico                            Tres Valles   \n",
              "25  Mexico                         Viñas de Garza   \n",
              "26  Mexico                             L.A. Cetto   \n",
              "27  Mexico                     Hacienda La Lomita   \n",
              "28  Mexico                              La Lomita   \n",
              "29  Mexico                            Monte Xanic   \n",
              "\n",
              "                         variety  \\\n",
              "0                       Nebbiolo   \n",
              "1                Sauvignon Blanc   \n",
              "2             Cabernet Sauvignon   \n",
              "3                       Nebbiolo   \n",
              "4                   Petite Sirah   \n",
              "5                           Rosé   \n",
              "6                 Cabernet Franc   \n",
              "7                Sauvignon Blanc   \n",
              "8                      Red Blend   \n",
              "9                      Red Blend   \n",
              "10                          Rosé   \n",
              "11                        Merlot   \n",
              "12                      Muscatel   \n",
              "13                     Red Blend   \n",
              "14                     Red Blend   \n",
              "15               Sauvignon Blanc   \n",
              "16                     Red Blend   \n",
              "17                    Chardonnay   \n",
              "18                     Red Blend   \n",
              "19                    Chardonnay   \n",
              "20                      Nebbiolo   \n",
              "21                      Nebbiolo   \n",
              "22                     Red Blend   \n",
              "23            Cabernet Sauvignon   \n",
              "24                     Red Blend   \n",
              "25                     Red Blend   \n",
              "26                    Chardonnay   \n",
              "27  Sauvignon Blanc-Chenin Blanc   \n",
              "28      Bordeaux-style Red Blend   \n",
              "29     Cabernet Sauvignon-Merlot   \n",
              "\n",
              "                                          description  points  price  \n",
              "0   The color is appropriately light, the aromas a...      88   18.0  \n",
              "1   Sauvignon Blanc is, in general, one of Baja's ...      87   15.0  \n",
              "2   Aromas of mature Cabernet: cassis, tobacco lea...      87   18.0  \n",
              "3   While this is fiery on the nose, you also get ...      88   27.0  \n",
              "4   Dark and earthy, slightly pruny and alcoholic,...      83    8.0  \n",
              "5   Oxidized cherry and strawberry aromas settle o...      83   21.0  \n",
              "6   With aromas of salsa, chili peppers and tomato...      86   39.0  \n",
              "7   Mild hints of tropical fruit are less than con...      84   15.0  \n",
              "8   This odd blend of Barbera, Cabernet Sauvignon,...      83   22.0  \n",
              "9   This Cabernet blend is one of Baja's best reds...      90   56.0  \n",
              "10  This is fairly hard and fiery on the nose. The...      82   25.0  \n",
              "11  Fiery, punchy aromas of red berries and herbac...      82   30.0  \n",
              "12  Tropical aromas of lychee and green banana are...      87   19.0  \n",
              "13  This blend of Tempranillo and Grenache is grit...      87   33.0  \n",
              "14  This five-grape blend is heavy, oaky and green...      84   27.0  \n",
              "15  Here's a true Sauvignon Blanc with spunky gree...      86   13.0  \n",
              "16  The bouquet on this blend of Cab, Zin, Merlot ...      87   58.0  \n",
              "17  Yeasty aromas are suggestive of vanilla wafer ...      83   13.0  \n",
              "18  Cascabel means “rattlesnake,” and this one bit...      87   49.0  \n",
              "19  This was my top Mexican white wine from a rece...      88   22.0  \n",
              "20  Hard-topped aromas of raspberry and cherry alo...      85   23.0  \n",
              "21  This earthy, dark, well-balanced Nebbiolo shar...      88   20.0  \n",
              "22  Sweet, earthy and dry smelling, with tobacco a...      88   26.0  \n",
              "23  Initially this Cab smells grassy and downright...      83   27.0  \n",
              "24  Kuwal is a Tempranillo-led blend that's ripe a...      89   31.0  \n",
              "25  A world-class wine regardless of origin, this ...      92   54.0  \n",
              "26  Smells crisp and pineapple-y and tastes of tar...      84   10.0  \n",
              "27  Like most good Baja whites, this is done in a ...      86   22.0  \n",
              "28  Roasted berry, dry oak, bacon, leather, graphi...      88   40.0  \n",
              "29  Most Monte Xanic wines are well made and fall ...      86   23.0  "
            ],
            "text/html": [
              "\n",
              "  <div id=\"df-19634436-a386-42f5-85ea-9f4119420d6e\" class=\"colab-df-container\">\n",
              "    <div>\n",
              "<style scoped>\n",
              "    .dataframe tbody tr th:only-of-type {\n",
              "        vertical-align: middle;\n",
              "    }\n",
              "\n",
              "    .dataframe tbody tr th {\n",
              "        vertical-align: top;\n",
              "    }\n",
              "\n",
              "    .dataframe thead th {\n",
              "        text-align: right;\n",
              "    }\n",
              "</style>\n",
              "<table border=\"1\" class=\"dataframe\">\n",
              "  <thead>\n",
              "    <tr style=\"text-align: right;\">\n",
              "      <th></th>\n",
              "      <th>country</th>\n",
              "      <th>winery</th>\n",
              "      <th>variety</th>\n",
              "      <th>description</th>\n",
              "      <th>points</th>\n",
              "      <th>price</th>\n",
              "    </tr>\n",
              "  </thead>\n",
              "  <tbody>\n",
              "    <tr>\n",
              "      <th>0</th>\n",
              "      <td>Mexico</td>\n",
              "      <td>L.A. Cetto</td>\n",
              "      <td>Nebbiolo</td>\n",
              "      <td>The color is appropriately light, the aromas a...</td>\n",
              "      <td>88</td>\n",
              "      <td>18.0</td>\n",
              "    </tr>\n",
              "    <tr>\n",
              "      <th>1</th>\n",
              "      <td>Mexico</td>\n",
              "      <td>Monte Xanic</td>\n",
              "      <td>Sauvignon Blanc</td>\n",
              "      <td>Sauvignon Blanc is, in general, one of Baja's ...</td>\n",
              "      <td>87</td>\n",
              "      <td>15.0</td>\n",
              "    </tr>\n",
              "    <tr>\n",
              "      <th>2</th>\n",
              "      <td>Mexico</td>\n",
              "      <td>L.A. Cetto</td>\n",
              "      <td>Cabernet Sauvignon</td>\n",
              "      <td>Aromas of mature Cabernet: cassis, tobacco lea...</td>\n",
              "      <td>87</td>\n",
              "      <td>18.0</td>\n",
              "    </tr>\n",
              "    <tr>\n",
              "      <th>3</th>\n",
              "      <td>Mexico</td>\n",
              "      <td>Cava Aragon</td>\n",
              "      <td>Nebbiolo</td>\n",
              "      <td>While this is fiery on the nose, you also get ...</td>\n",
              "      <td>88</td>\n",
              "      <td>27.0</td>\n",
              "    </tr>\n",
              "    <tr>\n",
              "      <th>4</th>\n",
              "      <td>Mexico</td>\n",
              "      <td>L.A. Cetto</td>\n",
              "      <td>Petite Sirah</td>\n",
              "      <td>Dark and earthy, slightly pruny and alcoholic,...</td>\n",
              "      <td>83</td>\n",
              "      <td>8.0</td>\n",
              "    </tr>\n",
              "    <tr>\n",
              "      <th>5</th>\n",
              "      <td>Mexico</td>\n",
              "      <td>Hacienda La Lomita</td>\n",
              "      <td>Rosé</td>\n",
              "      <td>Oxidized cherry and strawberry aromas settle o...</td>\n",
              "      <td>83</td>\n",
              "      <td>21.0</td>\n",
              "    </tr>\n",
              "    <tr>\n",
              "      <th>6</th>\n",
              "      <td>Mexico</td>\n",
              "      <td>Monte Xanic</td>\n",
              "      <td>Cabernet Franc</td>\n",
              "      <td>With aromas of salsa, chili peppers and tomato...</td>\n",
              "      <td>86</td>\n",
              "      <td>39.0</td>\n",
              "    </tr>\n",
              "    <tr>\n",
              "      <th>7</th>\n",
              "      <td>Mexico</td>\n",
              "      <td>Tres Valles</td>\n",
              "      <td>Sauvignon Blanc</td>\n",
              "      <td>Mild hints of tropical fruit are less than con...</td>\n",
              "      <td>84</td>\n",
              "      <td>15.0</td>\n",
              "    </tr>\n",
              "    <tr>\n",
              "      <th>8</th>\n",
              "      <td>Mexico</td>\n",
              "      <td>Unión de Productores del Valle (UPVG)</td>\n",
              "      <td>Red Blend</td>\n",
              "      <td>This odd blend of Barbera, Cabernet Sauvignon,...</td>\n",
              "      <td>83</td>\n",
              "      <td>22.0</td>\n",
              "    </tr>\n",
              "    <tr>\n",
              "      <th>9</th>\n",
              "      <td>Mexico</td>\n",
              "      <td>Monte Xanic</td>\n",
              "      <td>Red Blend</td>\n",
              "      <td>This Cabernet blend is one of Baja's best reds...</td>\n",
              "      <td>90</td>\n",
              "      <td>56.0</td>\n",
              "    </tr>\n",
              "    <tr>\n",
              "      <th>10</th>\n",
              "      <td>Mexico</td>\n",
              "      <td>Vinicola Fraternidad</td>\n",
              "      <td>Rosé</td>\n",
              "      <td>This is fairly hard and fiery on the nose. The...</td>\n",
              "      <td>82</td>\n",
              "      <td>25.0</td>\n",
              "    </tr>\n",
              "    <tr>\n",
              "      <th>11</th>\n",
              "      <td>Mexico</td>\n",
              "      <td>Vinos Magbel</td>\n",
              "      <td>Merlot</td>\n",
              "      <td>Fiery, punchy aromas of red berries and herbac...</td>\n",
              "      <td>82</td>\n",
              "      <td>30.0</td>\n",
              "    </tr>\n",
              "    <tr>\n",
              "      <th>12</th>\n",
              "      <td>Mexico</td>\n",
              "      <td>Möebius</td>\n",
              "      <td>Muscatel</td>\n",
              "      <td>Tropical aromas of lychee and green banana are...</td>\n",
              "      <td>87</td>\n",
              "      <td>19.0</td>\n",
              "    </tr>\n",
              "    <tr>\n",
              "      <th>13</th>\n",
              "      <td>Mexico</td>\n",
              "      <td>Vinicola Urbana</td>\n",
              "      <td>Red Blend</td>\n",
              "      <td>This blend of Tempranillo and Grenache is grit...</td>\n",
              "      <td>87</td>\n",
              "      <td>33.0</td>\n",
              "    </tr>\n",
              "    <tr>\n",
              "      <th>14</th>\n",
              "      <td>Mexico</td>\n",
              "      <td>Vena Cava</td>\n",
              "      <td>Red Blend</td>\n",
              "      <td>This five-grape blend is heavy, oaky and green...</td>\n",
              "      <td>84</td>\n",
              "      <td>27.0</td>\n",
              "    </tr>\n",
              "    <tr>\n",
              "      <th>15</th>\n",
              "      <td>Mexico</td>\n",
              "      <td>Monte Xanic</td>\n",
              "      <td>Sauvignon Blanc</td>\n",
              "      <td>Here's a true Sauvignon Blanc with spunky gree...</td>\n",
              "      <td>86</td>\n",
              "      <td>13.0</td>\n",
              "    </tr>\n",
              "    <tr>\n",
              "      <th>16</th>\n",
              "      <td>Mexico</td>\n",
              "      <td>Viñas de Garza</td>\n",
              "      <td>Red Blend</td>\n",
              "      <td>The bouquet on this blend of Cab, Zin, Merlot ...</td>\n",
              "      <td>87</td>\n",
              "      <td>58.0</td>\n",
              "    </tr>\n",
              "    <tr>\n",
              "      <th>17</th>\n",
              "      <td>Mexico</td>\n",
              "      <td>L.A. Cetto</td>\n",
              "      <td>Chardonnay</td>\n",
              "      <td>Yeasty aromas are suggestive of vanilla wafer ...</td>\n",
              "      <td>83</td>\n",
              "      <td>13.0</td>\n",
              "    </tr>\n",
              "    <tr>\n",
              "      <th>18</th>\n",
              "      <td>Mexico</td>\n",
              "      <td>Vinisterra</td>\n",
              "      <td>Red Blend</td>\n",
              "      <td>Cascabel means “rattlesnake,” and this one bit...</td>\n",
              "      <td>87</td>\n",
              "      <td>49.0</td>\n",
              "    </tr>\n",
              "    <tr>\n",
              "      <th>19</th>\n",
              "      <td>Mexico</td>\n",
              "      <td>Cava Maciel</td>\n",
              "      <td>Chardonnay</td>\n",
              "      <td>This was my top Mexican white wine from a rece...</td>\n",
              "      <td>88</td>\n",
              "      <td>22.0</td>\n",
              "    </tr>\n",
              "    <tr>\n",
              "      <th>20</th>\n",
              "      <td>Mexico</td>\n",
              "      <td>L.A. Cetto</td>\n",
              "      <td>Nebbiolo</td>\n",
              "      <td>Hard-topped aromas of raspberry and cherry alo...</td>\n",
              "      <td>85</td>\n",
              "      <td>23.0</td>\n",
              "    </tr>\n",
              "    <tr>\n",
              "      <th>21</th>\n",
              "      <td>Mexico</td>\n",
              "      <td>L.A. Cetto</td>\n",
              "      <td>Nebbiolo</td>\n",
              "      <td>This earthy, dark, well-balanced Nebbiolo shar...</td>\n",
              "      <td>88</td>\n",
              "      <td>20.0</td>\n",
              "    </tr>\n",
              "    <tr>\n",
              "      <th>22</th>\n",
              "      <td>Mexico</td>\n",
              "      <td>Rincón de Guadalupe</td>\n",
              "      <td>Red Blend</td>\n",
              "      <td>Sweet, earthy and dry smelling, with tobacco a...</td>\n",
              "      <td>88</td>\n",
              "      <td>26.0</td>\n",
              "    </tr>\n",
              "    <tr>\n",
              "      <th>23</th>\n",
              "      <td>Mexico</td>\n",
              "      <td>Vena Cava</td>\n",
              "      <td>Cabernet Sauvignon</td>\n",
              "      <td>Initially this Cab smells grassy and downright...</td>\n",
              "      <td>83</td>\n",
              "      <td>27.0</td>\n",
              "    </tr>\n",
              "    <tr>\n",
              "      <th>24</th>\n",
              "      <td>Mexico</td>\n",
              "      <td>Tres Valles</td>\n",
              "      <td>Red Blend</td>\n",
              "      <td>Kuwal is a Tempranillo-led blend that's ripe a...</td>\n",
              "      <td>89</td>\n",
              "      <td>31.0</td>\n",
              "    </tr>\n",
              "    <tr>\n",
              "      <th>25</th>\n",
              "      <td>Mexico</td>\n",
              "      <td>Viñas de Garza</td>\n",
              "      <td>Red Blend</td>\n",
              "      <td>A world-class wine regardless of origin, this ...</td>\n",
              "      <td>92</td>\n",
              "      <td>54.0</td>\n",
              "    </tr>\n",
              "    <tr>\n",
              "      <th>26</th>\n",
              "      <td>Mexico</td>\n",
              "      <td>L.A. Cetto</td>\n",
              "      <td>Chardonnay</td>\n",
              "      <td>Smells crisp and pineapple-y and tastes of tar...</td>\n",
              "      <td>84</td>\n",
              "      <td>10.0</td>\n",
              "    </tr>\n",
              "    <tr>\n",
              "      <th>27</th>\n",
              "      <td>Mexico</td>\n",
              "      <td>Hacienda La Lomita</td>\n",
              "      <td>Sauvignon Blanc-Chenin Blanc</td>\n",
              "      <td>Like most good Baja whites, this is done in a ...</td>\n",
              "      <td>86</td>\n",
              "      <td>22.0</td>\n",
              "    </tr>\n",
              "    <tr>\n",
              "      <th>28</th>\n",
              "      <td>Mexico</td>\n",
              "      <td>La Lomita</td>\n",
              "      <td>Bordeaux-style Red Blend</td>\n",
              "      <td>Roasted berry, dry oak, bacon, leather, graphi...</td>\n",
              "      <td>88</td>\n",
              "      <td>40.0</td>\n",
              "    </tr>\n",
              "    <tr>\n",
              "      <th>29</th>\n",
              "      <td>Mexico</td>\n",
              "      <td>Monte Xanic</td>\n",
              "      <td>Cabernet Sauvignon-Merlot</td>\n",
              "      <td>Most Monte Xanic wines are well made and fall ...</td>\n",
              "      <td>86</td>\n",
              "      <td>23.0</td>\n",
              "    </tr>\n",
              "  </tbody>\n",
              "</table>\n",
              "</div>\n",
              "    <div class=\"colab-df-buttons\">\n",
              "\n",
              "  <div class=\"colab-df-container\">\n",
              "    <button class=\"colab-df-convert\" onclick=\"convertToInteractive('df-19634436-a386-42f5-85ea-9f4119420d6e')\"\n",
              "            title=\"Convert this dataframe to an interactive table.\"\n",
              "            style=\"display:none;\">\n",
              "\n",
              "  <svg xmlns=\"http://www.w3.org/2000/svg\" height=\"24px\" viewBox=\"0 -960 960 960\">\n",
              "    <path d=\"M120-120v-720h720v720H120Zm60-500h600v-160H180v160Zm220 220h160v-160H400v160Zm0 220h160v-160H400v160ZM180-400h160v-160H180v160Zm440 0h160v-160H620v160ZM180-180h160v-160H180v160Zm440 0h160v-160H620v160Z\"/>\n",
              "  </svg>\n",
              "    </button>\n",
              "\n",
              "  <style>\n",
              "    .colab-df-container {\n",
              "      display:flex;\n",
              "      gap: 12px;\n",
              "    }\n",
              "\n",
              "    .colab-df-convert {\n",
              "      background-color: #E8F0FE;\n",
              "      border: none;\n",
              "      border-radius: 50%;\n",
              "      cursor: pointer;\n",
              "      display: none;\n",
              "      fill: #1967D2;\n",
              "      height: 32px;\n",
              "      padding: 0 0 0 0;\n",
              "      width: 32px;\n",
              "    }\n",
              "\n",
              "    .colab-df-convert:hover {\n",
              "      background-color: #E2EBFA;\n",
              "      box-shadow: 0px 1px 2px rgba(60, 64, 67, 0.3), 0px 1px 3px 1px rgba(60, 64, 67, 0.15);\n",
              "      fill: #174EA6;\n",
              "    }\n",
              "\n",
              "    .colab-df-buttons div {\n",
              "      margin-bottom: 4px;\n",
              "    }\n",
              "\n",
              "    [theme=dark] .colab-df-convert {\n",
              "      background-color: #3B4455;\n",
              "      fill: #D2E3FC;\n",
              "    }\n",
              "\n",
              "    [theme=dark] .colab-df-convert:hover {\n",
              "      background-color: #434B5C;\n",
              "      box-shadow: 0px 1px 3px 1px rgba(0, 0, 0, 0.15);\n",
              "      filter: drop-shadow(0px 1px 2px rgba(0, 0, 0, 0.3));\n",
              "      fill: #FFFFFF;\n",
              "    }\n",
              "  </style>\n",
              "\n",
              "    <script>\n",
              "      const buttonEl =\n",
              "        document.querySelector('#df-19634436-a386-42f5-85ea-9f4119420d6e button.colab-df-convert');\n",
              "      buttonEl.style.display =\n",
              "        google.colab.kernel.accessAllowed ? 'block' : 'none';\n",
              "\n",
              "      async function convertToInteractive(key) {\n",
              "        const element = document.querySelector('#df-19634436-a386-42f5-85ea-9f4119420d6e');\n",
              "        const dataTable =\n",
              "          await google.colab.kernel.invokeFunction('convertToInteractive',\n",
              "                                                    [key], {});\n",
              "        if (!dataTable) return;\n",
              "\n",
              "        const docLinkHtml = 'Like what you see? Visit the ' +\n",
              "          '<a target=\"_blank\" href=https://colab.research.google.com/notebooks/data_table.ipynb>data table notebook</a>'\n",
              "          + ' to learn more about interactive tables.';\n",
              "        element.innerHTML = '';\n",
              "        dataTable['output_type'] = 'display_data';\n",
              "        await google.colab.output.renderOutput(dataTable, element);\n",
              "        const docLink = document.createElement('div');\n",
              "        docLink.innerHTML = docLinkHtml;\n",
              "        element.appendChild(docLink);\n",
              "      }\n",
              "    </script>\n",
              "  </div>\n",
              "\n",
              "\n",
              "<div id=\"df-2c36cb8a-0b79-4f75-8683-08fab00e915a\">\n",
              "  <button class=\"colab-df-quickchart\" onclick=\"quickchart('df-2c36cb8a-0b79-4f75-8683-08fab00e915a')\"\n",
              "            title=\"Suggest charts\"\n",
              "            style=\"display:none;\">\n",
              "\n",
              "<svg xmlns=\"http://www.w3.org/2000/svg\" height=\"24px\"viewBox=\"0 0 24 24\"\n",
              "     width=\"24px\">\n",
              "    <g>\n",
              "        <path d=\"M19 3H5c-1.1 0-2 .9-2 2v14c0 1.1.9 2 2 2h14c1.1 0 2-.9 2-2V5c0-1.1-.9-2-2-2zM9 17H7v-7h2v7zm4 0h-2V7h2v10zm4 0h-2v-4h2v4z\"/>\n",
              "    </g>\n",
              "</svg>\n",
              "  </button>\n",
              "\n",
              "<style>\n",
              "  .colab-df-quickchart {\n",
              "      --bg-color: #E8F0FE;\n",
              "      --fill-color: #1967D2;\n",
              "      --hover-bg-color: #E2EBFA;\n",
              "      --hover-fill-color: #174EA6;\n",
              "      --disabled-fill-color: #AAA;\n",
              "      --disabled-bg-color: #DDD;\n",
              "  }\n",
              "\n",
              "  [theme=dark] .colab-df-quickchart {\n",
              "      --bg-color: #3B4455;\n",
              "      --fill-color: #D2E3FC;\n",
              "      --hover-bg-color: #434B5C;\n",
              "      --hover-fill-color: #FFFFFF;\n",
              "      --disabled-bg-color: #3B4455;\n",
              "      --disabled-fill-color: #666;\n",
              "  }\n",
              "\n",
              "  .colab-df-quickchart {\n",
              "    background-color: var(--bg-color);\n",
              "    border: none;\n",
              "    border-radius: 50%;\n",
              "    cursor: pointer;\n",
              "    display: none;\n",
              "    fill: var(--fill-color);\n",
              "    height: 32px;\n",
              "    padding: 0;\n",
              "    width: 32px;\n",
              "  }\n",
              "\n",
              "  .colab-df-quickchart:hover {\n",
              "    background-color: var(--hover-bg-color);\n",
              "    box-shadow: 0 1px 2px rgba(60, 64, 67, 0.3), 0 1px 3px 1px rgba(60, 64, 67, 0.15);\n",
              "    fill: var(--button-hover-fill-color);\n",
              "  }\n",
              "\n",
              "  .colab-df-quickchart-complete:disabled,\n",
              "  .colab-df-quickchart-complete:disabled:hover {\n",
              "    background-color: var(--disabled-bg-color);\n",
              "    fill: var(--disabled-fill-color);\n",
              "    box-shadow: none;\n",
              "  }\n",
              "\n",
              "  .colab-df-spinner {\n",
              "    border: 2px solid var(--fill-color);\n",
              "    border-color: transparent;\n",
              "    border-bottom-color: var(--fill-color);\n",
              "    animation:\n",
              "      spin 1s steps(1) infinite;\n",
              "  }\n",
              "\n",
              "  @keyframes spin {\n",
              "    0% {\n",
              "      border-color: transparent;\n",
              "      border-bottom-color: var(--fill-color);\n",
              "      border-left-color: var(--fill-color);\n",
              "    }\n",
              "    20% {\n",
              "      border-color: transparent;\n",
              "      border-left-color: var(--fill-color);\n",
              "      border-top-color: var(--fill-color);\n",
              "    }\n",
              "    30% {\n",
              "      border-color: transparent;\n",
              "      border-left-color: var(--fill-color);\n",
              "      border-top-color: var(--fill-color);\n",
              "      border-right-color: var(--fill-color);\n",
              "    }\n",
              "    40% {\n",
              "      border-color: transparent;\n",
              "      border-right-color: var(--fill-color);\n",
              "      border-top-color: var(--fill-color);\n",
              "    }\n",
              "    60% {\n",
              "      border-color: transparent;\n",
              "      border-right-color: var(--fill-color);\n",
              "    }\n",
              "    80% {\n",
              "      border-color: transparent;\n",
              "      border-right-color: var(--fill-color);\n",
              "      border-bottom-color: var(--fill-color);\n",
              "    }\n",
              "    90% {\n",
              "      border-color: transparent;\n",
              "      border-bottom-color: var(--fill-color);\n",
              "    }\n",
              "  }\n",
              "</style>\n",
              "\n",
              "  <script>\n",
              "    async function quickchart(key) {\n",
              "      const quickchartButtonEl =\n",
              "        document.querySelector('#' + key + ' button');\n",
              "      quickchartButtonEl.disabled = true;  // To prevent multiple clicks.\n",
              "      quickchartButtonEl.classList.add('colab-df-spinner');\n",
              "      try {\n",
              "        const charts = await google.colab.kernel.invokeFunction(\n",
              "            'suggestCharts', [key], {});\n",
              "      } catch (error) {\n",
              "        console.error('Error during call to suggestCharts:', error);\n",
              "      }\n",
              "      quickchartButtonEl.classList.remove('colab-df-spinner');\n",
              "      quickchartButtonEl.classList.add('colab-df-quickchart-complete');\n",
              "    }\n",
              "    (() => {\n",
              "      let quickchartButtonEl =\n",
              "        document.querySelector('#df-2c36cb8a-0b79-4f75-8683-08fab00e915a button');\n",
              "      quickchartButtonEl.style.display =\n",
              "        google.colab.kernel.accessAllowed ? 'block' : 'none';\n",
              "    })();\n",
              "  </script>\n",
              "</div>\n",
              "\n",
              "  <div id=\"id_bb771806-64f4-407e-aa64-056f37737827\">\n",
              "    <style>\n",
              "      .colab-df-generate {\n",
              "        background-color: #E8F0FE;\n",
              "        border: none;\n",
              "        border-radius: 50%;\n",
              "        cursor: pointer;\n",
              "        display: none;\n",
              "        fill: #1967D2;\n",
              "        height: 32px;\n",
              "        padding: 0 0 0 0;\n",
              "        width: 32px;\n",
              "      }\n",
              "\n",
              "      .colab-df-generate:hover {\n",
              "        background-color: #E2EBFA;\n",
              "        box-shadow: 0px 1px 2px rgba(60, 64, 67, 0.3), 0px 1px 3px 1px rgba(60, 64, 67, 0.15);\n",
              "        fill: #174EA6;\n",
              "      }\n",
              "\n",
              "      [theme=dark] .colab-df-generate {\n",
              "        background-color: #3B4455;\n",
              "        fill: #D2E3FC;\n",
              "      }\n",
              "\n",
              "      [theme=dark] .colab-df-generate:hover {\n",
              "        background-color: #434B5C;\n",
              "        box-shadow: 0px 1px 3px 1px rgba(0, 0, 0, 0.15);\n",
              "        filter: drop-shadow(0px 1px 2px rgba(0, 0, 0, 0.3));\n",
              "        fill: #FFFFFF;\n",
              "      }\n",
              "    </style>\n",
              "    <button class=\"colab-df-generate\" onclick=\"generateWithVariable('vinosMX')\"\n",
              "            title=\"Generate code using this dataframe.\"\n",
              "            style=\"display:none;\">\n",
              "\n",
              "  <svg xmlns=\"http://www.w3.org/2000/svg\" height=\"24px\"viewBox=\"0 0 24 24\"\n",
              "       width=\"24px\">\n",
              "    <path d=\"M7,19H8.4L18.45,9,17,7.55,7,17.6ZM5,21V16.75L18.45,3.32a2,2,0,0,1,2.83,0l1.4,1.43a1.91,1.91,0,0,1,.58,1.4,1.91,1.91,0,0,1-.58,1.4L9.25,21ZM18.45,9,17,7.55Zm-12,3A5.31,5.31,0,0,0,4.9,8.1,5.31,5.31,0,0,0,1,6.5,5.31,5.31,0,0,0,4.9,4.9,5.31,5.31,0,0,0,6.5,1,5.31,5.31,0,0,0,8.1,4.9,5.31,5.31,0,0,0,12,6.5,5.46,5.46,0,0,0,6.5,12Z\"/>\n",
              "  </svg>\n",
              "    </button>\n",
              "    <script>\n",
              "      (() => {\n",
              "      const buttonEl =\n",
              "        document.querySelector('#id_bb771806-64f4-407e-aa64-056f37737827 button.colab-df-generate');\n",
              "      buttonEl.style.display =\n",
              "        google.colab.kernel.accessAllowed ? 'block' : 'none';\n",
              "\n",
              "      buttonEl.onclick = () => {\n",
              "        google.colab.notebook.generateWithVariable('vinosMX');\n",
              "      }\n",
              "      })();\n",
              "    </script>\n",
              "  </div>\n",
              "\n",
              "    </div>\n",
              "  </div>\n"
            ],
            "application/vnd.google.colaboratory.intrinsic+json": {
              "type": "dataframe",
              "variable_name": "vinosMX",
              "summary": "{\n  \"name\": \"vinosMX\",\n  \"rows\": 30,\n  \"fields\": [\n    {\n      \"column\": \"country\",\n      \"properties\": {\n        \"dtype\": \"category\",\n        \"num_unique_values\": 1,\n        \"samples\": [\n          \"Mexico\"\n        ],\n        \"semantic_type\": \"\",\n        \"description\": \"\"\n      }\n    },\n    {\n      \"column\": \"winery\",\n      \"properties\": {\n        \"dtype\": \"string\",\n        \"num_unique_values\": 16,\n        \"samples\": [\n          \"L.A. Cetto\"\n        ],\n        \"semantic_type\": \"\",\n        \"description\": \"\"\n      }\n    },\n    {\n      \"column\": \"variety\",\n      \"properties\": {\n        \"dtype\": \"category\",\n        \"num_unique_values\": 13,\n        \"samples\": [\n          \"Bordeaux-style Red Blend\"\n        ],\n        \"semantic_type\": \"\",\n        \"description\": \"\"\n      }\n    },\n    {\n      \"column\": \"description\",\n      \"properties\": {\n        \"dtype\": \"string\",\n        \"num_unique_values\": 30,\n        \"samples\": [\n          \"Like most good Baja whites, this is done in a crisp, fresh style and offers acidic cut on the palate. The flavors are pure citrus\\u2014mostly lemon, tangerine and pineapple. This tangy wine narrows on the finish. Drink with ceviche and raw shellfish.\"\n        ],\n        \"semantic_type\": \"\",\n        \"description\": \"\"\n      }\n    },\n    {\n      \"column\": \"points\",\n      \"properties\": {\n        \"dtype\": \"number\",\n        \"std\": 2,\n        \"min\": 82,\n        \"max\": 92,\n        \"num_unique_values\": 10,\n        \"samples\": [\n          89\n        ],\n        \"semantic_type\": \"\",\n        \"description\": \"\"\n      }\n    },\n    {\n      \"column\": \"price\",\n      \"properties\": {\n        \"dtype\": \"number\",\n        \"std\": 13.314239201593209,\n        \"min\": 8.0,\n        \"max\": 58.0,\n        \"num_unique_values\": 22,\n        \"samples\": [\n          18.0\n        ],\n        \"semantic_type\": \"\",\n        \"description\": \"\"\n      }\n    }\n  ]\n}"
            }
          },
          "metadata": {},
          "execution_count": 10
        }
      ],
      "source": [
        "\"\"\"\n",
        "SECUENCIA:\n",
        "1. Ubicar todos los registros de México usando indexación booleana\n",
        "2. De este DataFrame resultante, extraer solamente las columnas solicitadas.\n",
        "3. Reiniciar el índice usando reset_index()\n",
        "4. Tirar (drop) la nueva columna index\n",
        "5. Asignar el resultado de este proceso a la variable vinosMX\n",
        "\"\"\"\n",
        "# TU CODIGO\n",
        "# 1. Ubicar todos los registros de México usando indexación booleana\n",
        "vinosMX = df[df['country']=='Mexico']\n",
        "\n",
        "# 2. De este DataFrame resultante, extraer solamente las columnas solicitadas.\n",
        "vinosMX = vinosMX[['country','winery','variety','description','points','price']]\n",
        "\n",
        "# 3. Reiniciar el índice usando reset_index()\n",
        "vinosMX = vinosMX.reset_index()\n",
        "\n",
        "# 4. Tirar (drop) la nueva columna index\n",
        "vinosMX = vinosMX.drop('index',axis=1)\n",
        "vinosMX"
      ]
    },
    {
      "cell_type": "markdown",
      "metadata": {
        "id": "AnNyMU1f_ABH"
      },
      "source": [
        "### __Veamos cuantas reseñas de vinos por país tenemos.__\n",
        "\n",
        "#### &#9758; Muestra en una gráfica de barras la distribución del número de reseñas por país (_top 10_)."
      ]
    },
    {
      "cell_type": "markdown",
      "metadata": {
        "id": "ITracUsv_ABH"
      },
      "source": [
        "#### Puedes auxiliarte con alguna de estos métodos de Pandas:\n",
        " - [pandas.DataFrame.count](https://pandas.pydata.org/pandas-docs/stable/reference/api/pandas.DataFrame.count.html)\n",
        " - [pandas.Series.value_counts](https://pandas.pydata.org/pandas-docs/stable/reference/api/pandas.Series.value_counts.html)\n",
        " - [pandas.Series.index](https://pandas.pydata.org/pandas-docs/stable/reference/api/pandas.Series.index.html)\n",
        " - [pandas.Series.values](https://pandas.pydata.org/pandas-docs/stable/reference/api/pandas.Series.values.html)"
      ]
    },
    {
      "cell_type": "code",
      "execution_count": 11,
      "metadata": {
        "id": "w2ucAq0a_ABH",
        "outputId": "4adc372c-0e95-4a01-91be-f01c96752804",
        "colab": {
          "base_uri": "https://localhost:8080/",
          "height": 488
        }
      },
      "outputs": [
        {
          "output_type": "display_data",
          "data": {
            "text/plain": [
              "<Figure size 800x500 with 1 Axes>"
            ],
            "image/png": "[encoded data removed]"
          },
          "metadata": {}
        }
      ],
      "source": [
        "import matplotlib.pyplot as plt\n",
        "import seaborn as sns\n",
        "\n",
        "\"\"\"\n",
        "SECUENCIA:\n",
        "1. Ubicar el nombre de la columna de país\n",
        "2. Sobre esta columna, obtener la Serie correspondiente\n",
        "3. Hacer un conteo de los valores únicos sobre esta Serie\n",
        "\n",
        "4. X en la gráfica de barras son los países (índice de la Serie)\n",
        "5. Y en la gráfica de barras son los conteos por país (values de la Serie)\n",
        "6. Usar Seaborn para graficar el diagrama de barras\n",
        "7. Rotular la gráfica y los ejes\n",
        "\"\"\"\n",
        "# 1. Ubicar el nombre de la columna de país\n",
        "# 2. Sobre esta columna, obtener la Serie correspondiente\n",
        "# 3. Hacer un conteo de los valores únicos sobre esta Serie\n",
        "conteos=df.country.value_counts()\n",
        "\n",
        "# 4. X en la gráfica de barras son los países (índice de la Serie)\n",
        "# 5. Y en la gráfica de barras son los conteos por país (values de la Serie)\n",
        "x = conteos.index\n",
        "y = conteos.values\n",
        "\n",
        "plt.figure(figsize=(8,5))\n",
        "sns.barplot(x=x[:10], y=y[:10])\n",
        "\n",
        "# En una sola línea:\n",
        "#sns.barplot(df.country.value_counts().index[:10], df.country.value_counts().values[:10])\n",
        "\n",
        "plt.xlabel(\"Países\")\n",
        "plt.ylabel(\"Número de vinos\")\n",
        "plt.title(\"Reseñas por país (Top 10)\")\n",
        "\n",
        "plt.show()"
      ]
    },
    {
      "cell_type": "markdown",
      "metadata": {
        "id": "v64IaOjF_ABH"
      },
      "source": [
        "### __Veamos ahora cuál es el precio promedio por cada país.__"
      ]
    },
    {
      "cell_type": "markdown",
      "metadata": {
        "id": "ZJA0JGMD_ABI"
      },
      "source": [
        "#### &#9758; Muestra en una gráfica de barras el precio promedio por país, en orden descendente (_top 10_).\n",
        "\n",
        "Puedes consultar:\n",
        " - [pandas.DataFrame.groupby](https://pandas.pydata.org/pandas-docs/stable/reference/api/pandas.DataFrame.groupby.html)\n",
        "\n",
        "#### &#9758; ¿Cuál sería el precio promedio por variedad?\n",
        "\n",
        "🙂 __Escribe la secuencia de pasos que tendrías que realizar.__"
      ]
    },
    {
      "cell_type": "code",
      "source": [
        "precio_por_pais = df[['country','price']]\n",
        "#Debo filtrar los NaN\n",
        "precio_por_pais_sin_NaN = precio_por_pais.dropna()\n",
        "promedios = precio_por_pais_sin_NaN.groupby(\"country\")[\"price\"].mean()  #<COMPLETA>\n",
        "x = promedios.index\n",
        "y = promedios.values\n",
        "\n",
        "#print(promedios[\"y\"])\n",
        "#print(precio_por_pais_sin_NaN)\n",
        "print(promedios)"
      ],
      "metadata": {
        "id": "EBboMlL_D2hd",
        "outputId": "885509db-f081-4790-baa2-5f3769b472d0",
        "colab": {
          "base_uri": "https://localhost:8080/"
        }
      },
      "execution_count": 12,
      "outputs": [
        {
          "output_type": "stream",
          "name": "stdout",
          "text": [
            "country\n",
            "Argentina                 23.783112\n",
            "Armenia                   14.000000\n",
            "Australia                 36.512381\n",
            "Austria                   30.970980\n",
            "Bosnia and Herzegovina    13.000000\n",
            "Brazil                    23.000000\n",
            "Bulgaria                  13.921875\n",
            "Canada                    35.712871\n",
            "Chile                     21.338757\n",
            "Croatia                   24.809524\n",
            "Cyprus                    16.000000\n",
            "Czech Republic            23.666667\n",
            "England                   51.275862\n",
            "France                    41.520469\n",
            "Georgia                   18.270270\n",
            "Germany                   41.057325\n",
            "Greece                    21.894495\n",
            "Hungary                   52.839286\n",
            "India                     13.500000\n",
            "Israel                    31.500000\n",
            "Italy                     39.633606\n",
            "Lebanon                   30.578947\n",
            "Luxembourg                23.000000\n",
            "Macedonia                 15.833333\n",
            "Mexico                    26.800000\n",
            "Moldova                   17.965517\n",
            "Morocco                   20.000000\n",
            "New Zealand               26.571646\n",
            "Peru                      22.333333\n",
            "Portugal                  26.034934\n",
            "Romania                   13.661017\n",
            "Serbia                    22.500000\n",
            "Slovakia                  16.000000\n",
            "Slovenia                  25.200000\n",
            "South Africa              24.487889\n",
            "Spain                     28.296577\n",
            "Switzerland               97.000000\n",
            "Turkey                    26.425000\n",
            "US                        36.593320\n",
            "Ukraine                    9.200000\n",
            "Uruguay                   26.737705\n",
            "Name: price, dtype: float64\n"
          ]
        }
      ]
    },
    {
      "cell_type": "code",
      "execution_count": 14,
      "metadata": {
        "id": "Yvx_DRH8_ABI",
        "outputId": "90ed67a0-5032-430a-cf97-64d137fe254f",
        "colab": {
          "base_uri": "https://localhost:8080/",
          "height": 488
        }
      },
      "outputs": [
        {
          "output_type": "display_data",
          "data": {
            "text/plain": [
              "<Figure size 1000x500 with 1 Axes>"
            ],
            "image/png": "[encoded data removed]"
          },
          "metadata": {}
        }
      ],
      "source": [
        "\"\"\"\n",
        "SECUENCIA:\n",
        "1.- Crear un dataset que contengas las columnas \"contry\" y \"price\"\n",
        "2.- Filtrar los NaN\n",
        "3.- Obtener el precio promedio por país\n",
        "\"\"\"\n",
        "precio_por_pais = df[['country','price']]\n",
        "#Debo filtrar los NaN\n",
        "precio_por_pais_sin_NaN = precio_por_pais.dropna()\n",
        "promedios = precio_por_pais_sin_NaN.groupby(\"country\")[\"price\"].mean()  #<COMPLETA>\n",
        "\n",
        "x = promedios.index\n",
        "y = promedios.values\n",
        "\n",
        "#Hasta aquí los precios no están ordenados de manera descendente\n",
        "plt.figure(figsize=(10,5))\n",
        "sns.barplot(x=x[:10], y=y[:10])\n",
        "plt.xlabel(\"País\")\n",
        "plt.ylabel(\"Precio promedio (Dólares)\")\n",
        "plt.title(\"Precio promedio por país (Primeros 10, no ordenados)\")\n",
        "\n",
        "plt.show()"
      ]
    },
    {
      "cell_type": "code",
      "source": [
        "promedios_ordenados = promedios.sort_values(ascending=False)\n",
        "\n",
        "# Selecciono los primeros 10 países con los precios promedio más altos\n",
        "top_10_paises = promedios_ordenados.head(10)\n",
        "\n",
        "# Se extraen los nombres de los países y sus precios promedio\n",
        "x = top_10_paises.index  # Países\n",
        "y = top_10_paises.values  # Precios promedio\n",
        "\n",
        "# Creación del gráfico de barras utilizando Seaborn\n",
        "plt.figure(figsize=(10, 5))\n",
        "sns.barplot(x=x, y=y, palette='viridis')  # Utiliza una paleta de colores (ejemplo: 'viridis')\n",
        "plt.title('Top 10 Países con Precios Más Altos')\n",
        "plt.xlabel('País')\n",
        "plt.ylabel('Precio Promedio')"
      ],
      "metadata": {
        "id": "HoSysYL2MYBe",
        "outputId": "b332c749-2738-4295-9396-017061e30496",
        "colab": {
          "base_uri": "https://localhost:8080/",
          "height": 610
        }
      },
      "execution_count": 15,
      "outputs": [
        {
          "output_type": "stream",
          "name": "stderr",
          "text": [
            "<ipython-input-15-cd90d1253d56>:12: FutureWarning: \n",
            "\n",
            "Passing `palette` without assigning `hue` is deprecated and will be removed in v0.14.0. Assign the `x` variable to `hue` and set `legend=False` for the same effect.\n",
            "\n",
            "  sns.barplot(x=x, y=y, palette='viridis')  # Utiliza una paleta de colores (ejemplo: 'viridis')\n"
          ]
        },
        {
          "output_type": "execute_result",
          "data": {
            "text/plain": [
              "Text(0, 0.5, 'Precio Promedio')"
            ]
          },
          "metadata": {},
          "execution_count": 15
        },
        {
          "output_type": "display_data",
          "data": {
            "text/plain": [
              "<Figure size 1000x500 with 1 Axes>"
            ],
            "image/png": "[encoded data removed]"
          },
          "metadata": {}
        }
      ]
    },
    {
      "cell_type": "markdown",
      "metadata": {
        "id": "JVmCeLFR_ABI"
      },
      "source": [
        "#### Agregando anotaciones a nuestros gráficos\n",
        "\n",
        "Es posible agregar información a nuestros gráficos, en forma de texto, o dibujos (e.g. flechas, líneas, círculos, etc.). Para ello, se utiliza la anotación (annotate) de ejes (axes). Detallar aquí cómo funciona nos llevaría mucho tiempo. Puedes consultar la documentación en estas ligas:\n",
        "\n",
        "- [matplotlib.Artist](https://matplotlib.org/3.3.3/api/artist_api.html#matplotlib.artist.Artist)\n",
        "    - [Artist tutorial](https://matplotlib.org/3.3.3/tutorials/intermediate/artists.html)\n",
        "- [matplotlib.axes](https://matplotlib.org/3.3.3/api/axes_api.html#matplotlib.axes.Axes)\n",
        "- [matplotlib.patches.Patch](https://matplotlib.org/3.3.3/api/axes_api.html#matplotlib.axes.Axes)\n",
        "- [matplotlib.patches.Rectangle](https://matplotlib.org/3.1.1/api/_as_gen/matplotlib.patches.Rectangle.html)\n",
        "- [matplotlib.pyplot.annotate](https://matplotlib.org/3.3.3/api/_as_gen/matplotlib.pyplot.annotate.html)"
      ]
    },
    {
      "cell_type": "code",
      "execution_count": 18,
      "metadata": {
        "id": "K3zdxOv0_ABI",
        "colab": {
          "base_uri": "https://localhost:8080/",
          "height": 468
        },
        "outputId": "14581e5c-a02f-4115-d172-5ca7086f348a"
      },
      "outputs": [
        {
          "output_type": "display_data",
          "data": {
            "text/plain": [
              "<Figure size 1000x500 with 1 Axes>"
            ],
            "image/png": "[encoded data removed]"
          },
          "metadata": {}
        }
      ],
      "source": [
        "import matplotlib.pyplot as plt\n",
        "import seaborn as sns\n",
        "\n",
        "#Definimos el tamaño del canvas\n",
        "plt.figure(figsize=(10,5))\n",
        "\n",
        "# la variable \"ax\" (axes) contiene la información  del gráfico de barras.\n",
        "# En particular, contiene todo lo relativo a los parches (rectángulos) del barplot.\n",
        "ax = sns.barplot(x=x[:10], y=y[:10])\n",
        "\n",
        "# Recorremos cada rectángulo\n",
        "for p in ax.patches:\n",
        "    ax.annotate(\"%.2f\" % p.get_height(),\\\n",
        "                (p.get_x() + p.get_width() / 2., p.get_height()),\\\n",
        "                ha='center', va='center', fontsize=11, color='gray',\\\n",
        "                xytext=(0, 10),\\\n",
        "                textcoords='offset points')\n",
        "\n",
        "plt.show()"
      ]
    },
    {
      "cell_type": "markdown",
      "metadata": {
        "id": "kNH-BrIr_ABI"
      },
      "source": [
        "### __Ahora queremos darnos una idea de cuáles podrían ser los países cuyos vinos tienen una mejor razón calidad-precio en promedio.__\n",
        "\n",
        "#### &#9758; Muestra en una gráfica de barras la razón puntos/precio promedio por país, en orden descendente (_top 10_). Muestra los valores de la razón sobre cada barra.\n",
        "\n",
        "✋ __Recuerda que si divides entre 0 o Nan obtendrás inf o nan__\n",
        "\n",
        "🙂 __Escribe la secuencia de pasos que tendrías que realizar.__"
      ]
    },
    {
      "cell_type": "code",
      "execution_count": 53,
      "metadata": {
        "id": "_C9aZPT7_ABJ",
        "colab": {
          "base_uri": "https://localhost:8080/",
          "height": 747
        },
        "outputId": "e7009083-4466-4818-d0a5-7d41a8132475"
      },
      "outputs": [
        {
          "output_type": "stream",
          "name": "stderr",
          "text": [
            "<ipython-input-53-bbbd663e73cd>:29: FutureWarning: \n",
            "\n",
            "Passing `palette` without assigning `hue` is deprecated and will be removed in v0.14.0. Assign the `x` variable to `hue` and set `legend=False` for the same effect.\n",
            "\n",
            "  ax = sns.barplot(x=x, y=y, palette='viridis')\n"
          ]
        },
        {
          "output_type": "display_data",
          "data": {
            "text/plain": [
              "<Figure size 1500x500 with 1 Axes>"
            ],
            "image/png": "[encoded data removed]"
          },
          "metadata": {}
        }
      ],
      "source": [
        "\"\"\"\n",
        "SECUENCIA DE PASOS\n",
        "1.- Generar un objeto llamado df1 que contenga las variables \"points\", \"price\" y \"country\"\n",
        "2.- Eliminar las línea que contengan NaN\n",
        "3.- Agregar a df1 una columna llamada \"ratio\". La column \"ratio\" debe contener la división \"points\"/\"price\"\n",
        "4.- Crear un nuevo objeto llamado \"df1_ratio_high\" que contenga los valores de df1 en orden descendente de acuerdo a \"ratio\"\n",
        "5.- Crear un objeto llamado \"df1_ratio_high_10\" que contenga las 10 primeras líneas\n",
        "6.- Asignar los index y values de ratio a las variables x e y\n",
        "7.- Generar el grafico de barras\n",
        "\"\"\"\n",
        "\n",
        "\n",
        "# Se extraen los nombres de los países y sus precios promedio\n",
        "\n",
        "\n",
        "df1 = df[[\"points\", \"price\", \"country\"]]#√\n",
        "df1 = df1.dropna() #√\n",
        "df1[\"ratio\"] = df1[\"points\"] / df1[\"price\"] #√\n",
        "\n",
        "promedios_ratio = df1.groupby(\"country\")[\"ratio\"].mean() #√\n",
        "\n",
        "df1_ratio_high = promedios_ratio.sort_values(ascending=False) #√\n",
        "df1_ratio_high_10 = df1_ratio_high.head(10) #√\n",
        "\n",
        "x = df1_ratio_high_10.index  # Países\n",
        "y = df1_ratio_high_10.values  # ratio\n",
        "\n",
        "plt.figure(figsize=(15,5))\n",
        "ax = sns.barplot(x=x, y=y, palette='viridis')\n",
        "plt.xlabel(\"País\")\n",
        "plt.xticks(rotation= 90, ha=\"right\")\n",
        "plt.ylabel(\"Relación (puntos / precio)\")\n",
        "plt.title(\"Barplot del puntaje (calidad)\")\n",
        "\n",
        "\n",
        "# Recorremos cada rectángulo\n",
        "for p in ax.patches:\n",
        "    ax.annotate(\"%.2f\" % p.get_height(),\\\n",
        "                (p.get_x() + p.get_width() / 2., p.get_height()),\\\n",
        "                ha='center', va='center', fontsize=11, color='gray',\\\n",
        "                xytext=(0, 10),\\\n",
        "                textcoords='offset points')\n",
        "\n",
        "plt.show()\n"
      ]
    },
    {
      "cell_type": "markdown",
      "metadata": {
        "id": "u_RKDerG_ABJ"
      },
      "source": [
        "### __¿Qué vinos tienen la mejor puntuación y a qué países pertenecen?__\n",
        "\n",
        "#### &#9758; Muestra en una gráfica de pastel la proporción de los países que tienen los 20 mejores vinos; es decir, los primeros 20 de mayor puntaje.  "
      ]
    },
    {
      "cell_type": "code",
      "execution_count": 72,
      "metadata": {
        "id": "x8wmI3kS_ABJ",
        "colab": {
          "base_uri": "https://localhost:8080/",
          "height": 481
        },
        "outputId": "1e2f8c27-7bcc-4e66-844b-1d502982a840"
      },
      "outputs": [
        {
          "output_type": "execute_result",
          "data": {
            "text/plain": [
              "Text(0.5, 1.0, 'PiePlot del puntaje (calidad), los 20 más altos')"
            ]
          },
          "metadata": {},
          "execution_count": 72
        },
        {
          "output_type": "display_data",
          "data": {
            "text/plain": [
              "<Figure size 500x500 with 1 Axes>"
            ],
            "image/png": "[encoded data removed]"
          },
          "metadata": {}
        }
      ],
      "source": [
        "#TU CODIGO\n",
        "\"\"\"\n",
        "\n",
        "\"\"\"\n",
        "df2 = df[[\"points\", \"country\"]]#√\n",
        "df2 = df2.dropna() #√\n",
        "#df1[\"ratio\"] = df1[\"points\"] / df1[\"price\"] #√\n",
        "\n",
        "points_high = df2.groupby(\"points\")[\"country\"].value_counts() #√\n",
        "\n",
        "points_high_ordered = points_high.sort_values(ascending=False) #√\n",
        "points_high_20_ordered = points_high_ordered.head(20) #√\n",
        "\n",
        "x = points_high_20_ordered.index  # Puntos\n",
        "y = points_high_20_ordered.values  # Países\n",
        "\n",
        "plt.figure(figsize=(5,5))\n",
        "plt.pie(y, labels=x, autopct='%1.1f%%', colors=plt.cm.viridis.colors)\n",
        "#ax = sns.barplot(x=x, y=y, palette='viridis')\n",
        "plt.xlabel(\"País\")\n",
        "plt.title(\"PiePlot del puntaje (calidad), los 20 más altos\")\n"
      ]
    },
    {
      "cell_type": "markdown",
      "metadata": {
        "id": "qzXzJZP6_ABJ"
      },
      "source": [
        "### __¿Cuáles son las 10 variedades de uva más abundantes y en qué proporción?__\n",
        "\n",
        "#### &#9758; Da una solución utilizando sólo dos líneas de código"
      ]
    },
    {
      "cell_type": "code",
      "execution_count": null,
      "metadata": {
        "id": "eLTaK54s_ABJ"
      },
      "outputs": [],
      "source": [
        "#TU CODIGO\n",
        "variedades = #<COMPLETA>"
      ]
    },
    {
      "cell_type": "markdown",
      "metadata": {
        "id": "48kibAdB_ABJ"
      },
      "source": [
        "### __¿Cuáles son las 20 bodegas más mencionadas y en qué proporción?__\n",
        "\n",
        "#### &#9758; Da una solución utilizando sólo dos líneas de código"
      ]
    },
    {
      "cell_type": "code",
      "execution_count": null,
      "metadata": {
        "id": "URJEbyYA_ABJ"
      },
      "outputs": [],
      "source": [
        "#TU CODIGO\n",
        "bodegas = #<COMPLETA>\n"
      ]
    },
    {
      "cell_type": "markdown",
      "metadata": {
        "id": "5GHaIc4v_ABJ"
      },
      "source": [
        "### __Vamos ahora a construir una nueva tabla de información__\n",
        "\n",
        "#### &#9758; Construye una tabla que muestre país, variedad de uva, bodega, y valores de puntuación y precio.\n",
        "- Considera las 10 variedades de uva y las 20 bodegas más importantes.\n",
        "- Haz una tabla con estos datos y sólo los valores de país, bodega, variedad, puntuación y precio correspondientes.\n",
        "- Agrega una columna con el valor de puntos/precio\n",
        "- Cambia el nombre de la bodega para que éste incluya su país de origen.\n",
        "- Ordena los datos por nombre de país, variedad y bodega (orden ascendente)."
      ]
    },
    {
      "cell_type": "code",
      "execution_count": null,
      "metadata": {
        "id": "Sf3zT3R8_ABK"
      },
      "outputs": [],
      "source": [
        "#TU CODIGO\n",
        "p_v = #<COMPLETA>  #nuevo dataFrame que vamos a construir y luego observar\n"
      ]
    },
    {
      "cell_type": "markdown",
      "metadata": {
        "id": "lA3tGfoz_ABK"
      },
      "source": [
        "#### &#9758; Observa la relación puntos-precio por país"
      ]
    },
    {
      "cell_type": "code",
      "execution_count": null,
      "metadata": {
        "id": "2mSD8o9O_ABK"
      },
      "outputs": [],
      "source": [
        "sns.relplot(x=\"points\", y=\"price\", hue=\"country\", col='country',kind=\"line\", data=p_v)"
      ]
    },
    {
      "cell_type": "markdown",
      "metadata": {
        "id": "L81V09MR_ABK"
      },
      "source": [
        "#### &#9758; Observa las distribuciones por pares en función de la variedad de uva."
      ]
    },
    {
      "cell_type": "code",
      "execution_count": null,
      "metadata": {
        "id": "3CGkDLYb_ABK"
      },
      "outputs": [],
      "source": [
        "sns.pairplot(p_v, hue=\"variety\",height=3,palette='rocket')"
      ]
    },
    {
      "cell_type": "markdown",
      "metadata": {
        "id": "dm-KFPXi_ABK"
      },
      "source": [
        "#### &#9758; Observa las distribuciones por pares en función del país."
      ]
    },
    {
      "cell_type": "code",
      "execution_count": null,
      "metadata": {
        "id": "R_7Qjffs_ABL"
      },
      "outputs": [],
      "source": [
        "#TU CODIGO\n"
      ]
    },
    {
      "cell_type": "markdown",
      "metadata": {
        "id": "tEF1K1Gy_ABL"
      },
      "source": [
        "#### &#9758; Observa las distribuciones por pares en función de la bodega."
      ]
    },
    {
      "cell_type": "code",
      "execution_count": null,
      "metadata": {
        "id": "4VexTk0T_ABL"
      },
      "outputs": [],
      "source": [
        "#TU CODIGO\n"
      ]
    },
    {
      "cell_type": "markdown",
      "metadata": {
        "id": "krluD1HN_ABL"
      },
      "source": [
        "#### &#9758; Observa las distribuciones (scatter) de precio por variedad de uva."
      ]
    },
    {
      "cell_type": "code",
      "execution_count": null,
      "metadata": {
        "id": "sYcHov7g_ABM"
      },
      "outputs": [],
      "source": [
        "#TU CODIGO\n"
      ]
    },
    {
      "cell_type": "markdown",
      "metadata": {
        "id": "lai5LG6M_ABM"
      },
      "source": [
        "#### &#9758; Observa las distribuciones (scatter) de precio por bodega."
      ]
    },
    {
      "cell_type": "code",
      "execution_count": null,
      "metadata": {
        "id": "xogxgZy8_ABM"
      },
      "outputs": [],
      "source": [
        "#TU CODIGO\n"
      ]
    },
    {
      "cell_type": "markdown",
      "metadata": {
        "id": "b86UsIGe_ABN"
      },
      "source": [
        "#### &#9758; Observa las distribuciones (scatter) de puntos/precio por bodega."
      ]
    },
    {
      "cell_type": "code",
      "execution_count": null,
      "metadata": {
        "id": "pI_xcfOA_ABN"
      },
      "outputs": [],
      "source": [
        "#TU CODIGO\n"
      ]
    },
    {
      "cell_type": "markdown",
      "metadata": {
        "id": "9nyra9Gk_ABN"
      },
      "source": [
        "#### &#9758; Observa las distribuciones (scatter) de puntos/precio por país."
      ]
    },
    {
      "cell_type": "code",
      "execution_count": null,
      "metadata": {
        "id": "0F2zqzkZ_ABO"
      },
      "outputs": [],
      "source": [
        "#TU CODIGO\n"
      ]
    },
    {
      "cell_type": "markdown",
      "metadata": {
        "id": "DsKEPL-t_ABO"
      },
      "source": [
        "### __Agrega los datos de México a esta última tabla de información__\n",
        "\n",
        "#### &#9758; Une la tabla de vinosMX a la tabla p_v\n",
        "- Asegúrate de __no agregar__ la columna de descripción"
      ]
    },
    {
      "cell_type": "code",
      "execution_count": null,
      "metadata": {
        "id": "dsFuzUuM_ABO"
      },
      "outputs": [],
      "source": [
        "#TU CODIGO\n",
        "df3 = #<COMPLETA> # nuevo dataFrame que contiene la unión de las tablas"
      ]
    },
    {
      "cell_type": "markdown",
      "metadata": {
        "id": "YrxHK4PG_ABO"
      },
      "source": [
        "#### &#9758; Calcula los valores de points/price para los vinos de México\n",
        "- TIP: Usa el método apply sobre `df3[['points','price','points/price']]`"
      ]
    },
    {
      "cell_type": "code",
      "execution_count": null,
      "metadata": {
        "id": "DBx55qOU_ABO"
      },
      "outputs": [],
      "source": [
        "# TU CODIGO\n"
      ]
    },
    {
      "cell_type": "markdown",
      "metadata": {
        "id": "yQaeMuRF_ABO"
      },
      "source": [
        "#### &#9758; Observa la relación puntos-precio por país"
      ]
    },
    {
      "cell_type": "code",
      "execution_count": null,
      "metadata": {
        "id": "0h0iUGON_ABO"
      },
      "outputs": [],
      "source": [
        "sns.relplot(x=\"points\", y=\"price\", hue=\"country\", col='country',kind=\"line\", data=df3)"
      ]
    },
    {
      "cell_type": "markdown",
      "metadata": {
        "id": "QW0vh_Z0_ABO"
      },
      "source": [
        "#### &#9758; Observa las distribuciones por pares en función del país.\n",
        "- Construye una tabla auxiliar \"mx_top\", donde los datos de México (en df3) aparezcan al final de la tabla mx_top."
      ]
    },
    {
      "cell_type": "code",
      "execution_count": null,
      "metadata": {
        "id": "mTC2GDj0_ABO"
      },
      "outputs": [],
      "source": [
        "mx_top = #<COMPLETA>\n",
        "sns.pairplot(mx_top, hue=\"country\",height=3,palette='bright')"
      ]
    },
    {
      "cell_type": "markdown",
      "metadata": {
        "id": "T7oQBsa0_ABO"
      },
      "source": [
        "#### &#9758; Observa las distribuciones (scatter) de puntos por país."
      ]
    },
    {
      "cell_type": "code",
      "execution_count": null,
      "metadata": {
        "id": "ttlwj1mb_ABO"
      },
      "outputs": [],
      "source": [
        "plt.figure(figsize=(10,5))\n",
        "sns.stripplot(x=\"country\", y=\"points\", data=df3,dodge=True,palette='deep',marker='*',size=8)\n",
        "plt.xticks(rotation= 45, ha=\"right\")"
      ]
    },
    {
      "cell_type": "markdown",
      "metadata": {
        "id": "PAkcDsER_ABP"
      },
      "source": [
        "#### &#9758; Observa las distribuciones (scatter) de precios por bodega."
      ]
    },
    {
      "cell_type": "code",
      "execution_count": null,
      "metadata": {
        "id": "xlxflCU9_ABP"
      },
      "outputs": [],
      "source": [
        "plt.figure(figsize=(10,5))\n",
        "sns.stripplot(x=\"winery\", y=\"price\", data=df3,dodge=True,palette='rocket',marker='*',size=8)\n",
        "plt.xticks(rotation= 45, ha=\"right\")"
      ]
    },
    {
      "cell_type": "markdown",
      "metadata": {
        "id": "SfNUnVJI_ABP"
      },
      "source": [
        "#### &#9758; Observa las distribuciones (scatter) de puntos/precio por bodega.\n",
        "- Dibuja una línea que marque el promedio de todos los datos\n",
        "- Dibuja marcas ubicadando los valores promedio por cada bodega (TIP: usa `groupby` sobre país y bodega para calcular primero los valores promedio)"
      ]
    },
    {
      "cell_type": "code",
      "execution_count": null,
      "metadata": {
        "id": "UtXnthN7_ABP"
      },
      "outputs": [],
      "source": [
        "medias = #<COMPLETA>\n",
        "\n",
        "# TU CODIGO\n"
      ]
    },
    {
      "cell_type": "markdown",
      "metadata": {
        "id": "AGWN-TOB_ABP"
      },
      "source": [
        "#### &#9758; Si consideramos la proporción de los países con mejor relación puntos/precio, ¿cómo queda México?\n",
        "- Usa un gráfico de pastel"
      ]
    },
    {
      "cell_type": "code",
      "execution_count": null,
      "metadata": {
        "id": "pFLDJ6WJ_ABP"
      },
      "outputs": [],
      "source": [
        "# TU CODIGO\n"
      ]
    }
  ],
  "metadata": {
    "kernelspec": {
      "display_name": "Python 3 (ipykernel)",
      "language": "python",
      "name": "python3"
    },
    "language_info": {
      "codemirror_mode": {
        "name": "ipython",
        "version": 3
      },
      "file_extension": ".py",
      "mimetype": "text/x-python",
      "name": "python",
      "nbconvert_exporter": "python",
      "pygments_lexer": "ipython3",
      "version": "3.9.13"
    },
    "colab": {
      "provenance": [],
      "include_colab_link": true
    }
  },
  "nbformat": 4,
  "nbformat_minor": 0
}